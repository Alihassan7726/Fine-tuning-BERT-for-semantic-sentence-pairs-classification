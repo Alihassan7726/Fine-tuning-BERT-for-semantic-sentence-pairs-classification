{
  "nbformat": 4,
  "nbformat_minor": 0,
  "metadata": {
    "accelerator": "GPU",
    "colab": {
      "name": "Semantic Text Classification.ipynb",
      "provenance": [],
      "collapsed_sections": [],
      "authorship_tag": "ABX9TyOywaB7ruxb2+SNgLBHJEia",
      "include_colab_link": true
    },
    "kernelspec": {
      "display_name": "Python 3",
      "name": "python3"
    },
    "language_info": {
      "name": "python"
    }
  },
  "cells": [
    {
      "cell_type": "markdown",
      "metadata": {
        "id": "view-in-github",
        "colab_type": "text"
      },
      "source": [
        "<a href=\"https://colab.research.google.com/github/Alihassan7726/Fine-tuning-BERT-for-semantic-sentence-pairs-classification/blob/main/Semantic_Text_Classification.ipynb\" target=\"_parent\"><img src=\"https://colab.research.google.com/assets/colab-badge.svg\" alt=\"Open In Colab\"/></a>"
      ]
    },
    {
      "cell_type": "markdown",
      "metadata": {
        "id": "Shmk0_dF9FKQ"
      },
      "source": [
        "<h1 align=right> Fine-Tuning BERT using tensorflow and tf_hub</h2>\n",
        "<h1 align=right> on semantic sentence pairs classification</h2>"
      ]
    },
    {
      "cell_type": "markdown",
      "metadata": {
        "id": "qED9Meac935z"
      },
      "source": [
        "In this project we'll see how to fine-tune BERT for sentence pairs classification problem using Tensorflow and tf_hub . \n",
        "\n",
        "The pre-trained BERT models are available at [tensorflow hub](https://tfhub.dev/). "
      ]
    },
    {
      "cell_type": "markdown",
      "metadata": {
        "id": "BP2ezgJ--Brb"
      },
      "source": [
        "# Table of contents:\n",
        "- **[Step 1]()**: Setting up TensorFlow and Colab Runtime\n",
        "- **[Step 2]()**: Installing tensorflow Model garden pakage and other required dependencies \n",
        "- **[Step 3]()**: Importing libraires and defining BERT path URL\n",
        "- **[Step 4]()**: Geting the dataset from TensorFlow Datasets\n",
        "- **[Step 5]()**: Preprocessing Data using separate Tensorflow model \n",
        "- **[Step 6]()**: Applying preprocessing model on entire dataset using `.map` method\n",
        "- **[Step 7]()**: Creating a TensorFlow Input Pipeline with `tf.data`\n",
        "- **[Step 8]()**: Adding a Classification Head to the BERT `hub.KerasLayer` Execution\n",
        "- **[Step 9]()**: Fine-Tuning BERT for sentence pairs Classification\n",
        "- **[Step 10]()**: Evaluating Model performance visually \n",
        "- **[Step 11]()**: Exporting Model for Inference\n",
        "- **[Step 12]()**: Saving and evaluating the BERT Model on new data"
      ]
    },
    {
      "cell_type": "markdown",
      "metadata": {
        "id": "PBLhotao-HrB"
      },
      "source": [
        "### Step 1: Setting up TensorFlow and Colab Runtime\n",
        "\n",
        "Go to above menu bar and select `Runtime` then from Dropdown menu select `change runtime type` and then choose `GPU` from that to enable it . Lastly try to connect GPU with `Connect` button at upper right corner of notebook "
      ]
    },
    {
      "cell_type": "code",
      "metadata": {
        "colab": {
          "base_uri": "https://localhost:8080/"
        },
        "id": "PWOviNa2HWsp",
        "outputId": "b3267480-ee5a-40d7-f8cd-32d6ab35d3ea"
      },
      "source": [
        "import tensorflow as tf\n",
        "print(\"GPU is\", \"available\" if tf.config.experimental.list_physical_devices(\"GPU\") else \"NOT AVAILABLE\")\n",
        "!nvidia-smi"
      ],
      "execution_count": null,
      "outputs": [
        {
          "output_type": "stream",
          "text": [
            "GPU is available\n",
            "Thu Jul  1 03:23:09 2021       \n",
            "+-----------------------------------------------------------------------------+\n",
            "| NVIDIA-SMI 465.27       Driver Version: 460.32.03    CUDA Version: 11.2     |\n",
            "|-------------------------------+----------------------+----------------------+\n",
            "| GPU  Name        Persistence-M| Bus-Id        Disp.A | Volatile Uncorr. ECC |\n",
            "| Fan  Temp  Perf  Pwr:Usage/Cap|         Memory-Usage | GPU-Util  Compute M. |\n",
            "|                               |                      |               MIG M. |\n",
            "|===============================+======================+======================|\n",
            "|   0  Tesla T4            Off  | 00000000:00:04.0 Off |                    0 |\n",
            "| N/A   55C    P8    10W /  70W |      3MiB / 15109MiB |      0%      Default |\n",
            "|                               |                      |                  N/A |\n",
            "+-------------------------------+----------------------+----------------------+\n",
            "                                                                               \n",
            "+-----------------------------------------------------------------------------+\n",
            "| Processes:                                                                  |\n",
            "|  GPU   GI   CI        PID   Type   Process name                  GPU Memory |\n",
            "|        ID   ID                                                   Usage      |\n",
            "|=============================================================================|\n",
            "|  No running processes found                                                 |\n",
            "+-----------------------------------------------------------------------------+\n"
          ],
          "name": "stdout"
        }
      ]
    },
    {
      "cell_type": "markdown",
      "metadata": {
        "id": "F7JUNaMV-fGY"
      },
      "source": [
        "### Step 2: Installing tensorflow Model garden pakage and other required dependencies \n",
        "\n",
        "\n",
        "You have to restart your kernel after executing below 3 cells by clicking on same `Runtime` menu and then choosing `Restart runtime`"
      ]
    },
    {
      "cell_type": "code",
      "metadata": {
        "colab": {
          "base_uri": "https://localhost:8080/"
        },
        "id": "K_QqfJ8uK2nu",
        "outputId": "4839fa81-8fe5-42c6-e127-3dac72a7bb64"
      },
      "source": [
        "pip install -q -U tensorflow-text\n"
      ],
      "execution_count": null,
      "outputs": [
        {
          "output_type": "stream",
          "text": [
            "\u001b[K     |████████████████████████████████| 4.3MB 31.2MB/s \n",
            "\u001b[?25h"
          ],
          "name": "stdout"
        }
      ]
    },
    {
      "cell_type": "code",
      "metadata": {
        "colab": {
          "base_uri": "https://localhost:8080/"
        },
        "id": "c9GBZcsIK6wy",
        "outputId": "b5d5ae9d-3d23-4f7e-a675-401bff0723fa"
      },
      "source": [
        "# To create Adamw optimizor\n",
        "!pip install -q tf-models-official\n"
      ],
      "execution_count": null,
      "outputs": [
        {
          "output_type": "stream",
          "text": [
            "\u001b[K     |████████████████████████████████| 1.6MB 31.2MB/s \n",
            "\u001b[K     |████████████████████████████████| 102kB 13.3MB/s \n",
            "\u001b[K     |████████████████████████████████| 1.2MB 46.6MB/s \n",
            "\u001b[K     |████████████████████████████████| 358kB 60.8MB/s \n",
            "\u001b[K     |████████████████████████████████| 38.2MB 80kB/s \n",
            "\u001b[K     |████████████████████████████████| 215kB 57.9MB/s \n",
            "\u001b[K     |████████████████████████████████| 686kB 41.3MB/s \n",
            "\u001b[K     |████████████████████████████████| 645kB 40.9MB/s \n",
            "\u001b[K     |████████████████████████████████| 51kB 9.0MB/s \n",
            "\u001b[K     |████████████████████████████████| 61kB 10.3MB/s \n",
            "\u001b[?25h  Building wheel for py-cpuinfo (setup.py) ... \u001b[?25l\u001b[?25hdone\n",
            "  Building wheel for seqeval (setup.py) ... \u001b[?25l\u001b[?25hdone\n"
          ],
          "name": "stdout"
        }
      ]
    },
    {
      "cell_type": "code",
      "metadata": {
        "colab": {
          "base_uri": "https://localhost:8080/"
        },
        "id": "FL4AFDw6LEmP",
        "outputId": "341f25af-205f-41a3-bc65-1cc2bdc51d2f"
      },
      "source": [
        "pip install -U tfds-nightly\n"
      ],
      "execution_count": null,
      "outputs": [
        {
          "output_type": "stream",
          "text": [
            "Collecting tfds-nightly\n",
            "\u001b[?25l  Downloading https://files.pythonhosted.org/packages/18/7e/56f6f1a417507d5cb2e4afe68a0e460591e9aa1426fd9209cb9084167a3f/tfds_nightly-4.3.0.dev202106300107-py3-none-any.whl (3.9MB)\n",
            "\u001b[K     |████████████████████████████████| 3.9MB 28.4MB/s \n",
            "\u001b[?25hRequirement already satisfied, skipping upgrade: promise in /usr/local/lib/python3.7/dist-packages (from tfds-nightly) (2.3)\n",
            "Requirement already satisfied, skipping upgrade: tensorflow-metadata in /usr/local/lib/python3.7/dist-packages (from tfds-nightly) (1.0.0)\n",
            "Requirement already satisfied, skipping upgrade: future in /usr/local/lib/python3.7/dist-packages (from tfds-nightly) (0.16.0)\n",
            "Requirement already satisfied, skipping upgrade: dill in /usr/local/lib/python3.7/dist-packages (from tfds-nightly) (0.3.4)\n",
            "Requirement already satisfied, skipping upgrade: protobuf>=3.12.2 in /usr/local/lib/python3.7/dist-packages (from tfds-nightly) (3.12.4)\n",
            "Requirement already satisfied, skipping upgrade: six in /usr/local/lib/python3.7/dist-packages (from tfds-nightly) (1.15.0)\n",
            "Requirement already satisfied, skipping upgrade: termcolor in /usr/local/lib/python3.7/dist-packages (from tfds-nightly) (1.1.0)\n",
            "Requirement already satisfied, skipping upgrade: tqdm in /usr/local/lib/python3.7/dist-packages (from tfds-nightly) (4.41.1)\n",
            "Requirement already satisfied, skipping upgrade: attrs>=18.1.0 in /usr/local/lib/python3.7/dist-packages (from tfds-nightly) (21.2.0)\n",
            "Requirement already satisfied, skipping upgrade: requests>=2.19.0 in /usr/local/lib/python3.7/dist-packages (from tfds-nightly) (2.23.0)\n",
            "Requirement already satisfied, skipping upgrade: typing-extensions; python_version < \"3.8\" in /usr/local/lib/python3.7/dist-packages (from tfds-nightly) (3.7.4.3)\n",
            "Requirement already satisfied, skipping upgrade: absl-py in /usr/local/lib/python3.7/dist-packages (from tfds-nightly) (0.12.0)\n",
            "Requirement already satisfied, skipping upgrade: numpy in /usr/local/lib/python3.7/dist-packages (from tfds-nightly) (1.19.5)\n",
            "Requirement already satisfied, skipping upgrade: importlib-resources; python_version < \"3.9\" in /usr/local/lib/python3.7/dist-packages (from tfds-nightly) (5.1.4)\n",
            "Requirement already satisfied, skipping upgrade: googleapis-common-protos<2,>=1.52.0 in /usr/local/lib/python3.7/dist-packages (from tensorflow-metadata->tfds-nightly) (1.53.0)\n",
            "Requirement already satisfied, skipping upgrade: setuptools in /usr/local/lib/python3.7/dist-packages (from protobuf>=3.12.2->tfds-nightly) (57.0.0)\n",
            "Requirement already satisfied, skipping upgrade: urllib3!=1.25.0,!=1.25.1,<1.26,>=1.21.1 in /usr/local/lib/python3.7/dist-packages (from requests>=2.19.0->tfds-nightly) (1.24.3)\n",
            "Requirement already satisfied, skipping upgrade: certifi>=2017.4.17 in /usr/local/lib/python3.7/dist-packages (from requests>=2.19.0->tfds-nightly) (2021.5.30)\n",
            "Requirement already satisfied, skipping upgrade: idna<3,>=2.5 in /usr/local/lib/python3.7/dist-packages (from requests>=2.19.0->tfds-nightly) (2.10)\n",
            "Requirement already satisfied, skipping upgrade: chardet<4,>=3.0.2 in /usr/local/lib/python3.7/dist-packages (from requests>=2.19.0->tfds-nightly) (3.0.4)\n",
            "Requirement already satisfied, skipping upgrade: zipp>=3.1.0; python_version < \"3.10\" in /usr/local/lib/python3.7/dist-packages (from importlib-resources; python_version < \"3.9\"->tfds-nightly) (3.4.1)\n",
            "Installing collected packages: tfds-nightly\n",
            "Successfully installed tfds-nightly-4.3.0.dev202106300107\n"
          ],
          "name": "stdout"
        }
      ]
    },
    {
      "cell_type": "markdown",
      "metadata": {
        "id": "UJRgJRJH_p6t"
      },
      "source": [
        "### Step 3: Importing libraires and defining BERT path URL"
      ]
    },
    {
      "cell_type": "code",
      "metadata": {
        "id": "YrJC61f4LTjE"
      },
      "source": [
        "import os\n",
        "\n",
        "import numpy as np\n",
        "import matplotlib.pyplot as plt\n",
        "\n",
        "import tensorflow as tf\n",
        "import tensorflow_hub as hub\n",
        "import tensorflow_datasets as tfds\n",
        "tfds.disable_progress_bar()\n",
        "\n",
        "from official.modeling import tf_utils\n",
        "from official import nlp\n",
        "from official.nlp import bert\n",
        "\n",
        "# Load the required submodules\n",
        "import official.nlp.optimization\n",
        "from official.nlp import optimization  # to create AdamW optimizer\n",
        "import official.nlp.bert.bert_models\n",
        "import official.nlp.bert.configs\n",
        "import official.nlp.bert.run_classifier\n",
        "import official.nlp.bert.tokenization\n",
        "import official.nlp.data.classifier_data_lib\n",
        "import official.nlp.modeling.losses\n",
        "import official.nlp.modeling.models\n",
        "import official.nlp.modeling.networks\n",
        "tf.get_logger().setLevel('ERROR')\n"
      ],
      "execution_count": null,
      "outputs": []
    },
    {
      "cell_type": "code",
      "metadata": {
        "colab": {
          "base_uri": "https://localhost:8080/"
        },
        "id": "ka1PRZc7LntN",
        "outputId": "60da0bf3-71cb-4022-9091-90d6a6a75626"
      },
      "source": [
        "# Model URL\n",
        "hub_bert_url = \"https://tfhub.dev/tensorflow/bert_en_uncased_L-12_H-768_A-12/4\"\n",
        "# Preprocessor URL\n",
        "hub_handle_preprocess = \"https://tfhub.dev/tensorflow/bert_en_uncased_preprocess/3\"\n",
        "\n",
        "\n",
        "bert_preprocess = hub.load(hub_handle_preprocess)\n",
        "tok = bert_preprocess.tokenize(tf.constant(['Hello TensorFlow!']))\n",
        "print(tok)"
      ],
      "execution_count": null,
      "outputs": [
        {
          "output_type": "stream",
          "text": [
            "<tf.RaggedTensor [[[7592], [23435, 12314], [999]]]>\n"
          ],
          "name": "stdout"
        }
      ]
    },
    {
      "cell_type": "markdown",
      "metadata": {
        "id": "1shEQWXtNhrK"
      },
      "source": [
        "### Step 4: Geting the dataset from TensorFlow Datasets\n",
        "The Microsoft Research Paraphrase Corpus (Dolan & Brockett, 2005) is a corpus of sentence pairs automatically extracted from online news sources, with human annotations for whether the sentences in the pair are semantically equivalent.\n",
        "\n",
        "- Number of labels: 2.\n",
        "\n",
        "- Size of training dataset: 3668.\n",
        "- Size of evaluation dataset: 408.\n",
        "- Maximum sequence length of training and evaluation dataset: 128."
      ]
    },
    {
      "cell_type": "code",
      "metadata": {
        "colab": {
          "base_uri": "https://localhost:8080/"
        },
        "id": "MN5p42rmNEsu",
        "outputId": "68a83d68-f962-4dde-b2ce-1d22043bde08"
      },
      "source": [
        "glue, info = tfds.load('glue/mrpc', with_info=True,\n",
        "                       # It's small, load the whole dataset\n",
        "                       batch_size=-1)"
      ],
      "execution_count": null,
      "outputs": [
        {
          "output_type": "stream",
          "text": [
            "\u001b[1mDownloading and preparing dataset 1.43 MiB (download: 1.43 MiB, generated: 1.74 MiB, total: 3.17 MiB) to /root/tensorflow_datasets/glue/mrpc/2.0.0...\u001b[0m\n",
            "\u001b[1mDataset glue downloaded and prepared to /root/tensorflow_datasets/glue/mrpc/2.0.0. Subsequent calls will reuse this data.\u001b[0m\n"
          ],
          "name": "stdout"
        }
      ]
    },
    {
      "cell_type": "code",
      "metadata": {
        "colab": {
          "base_uri": "https://localhost:8080/"
        },
        "id": "VHLErrKiOLGo",
        "outputId": "a947859c-ae5b-48e7-f88a-1b6ba1287e53"
      },
      "source": [
        "list(glue.keys())\n"
      ],
      "execution_count": null,
      "outputs": [
        {
          "output_type": "execute_result",
          "data": {
            "text/plain": [
              "[Split('train'), Split('validation'), Split('test')]"
            ]
          },
          "metadata": {
            "tags": []
          },
          "execution_count": 4
        }
      ]
    },
    {
      "cell_type": "code",
      "metadata": {
        "colab": {
          "base_uri": "https://localhost:8080/"
        },
        "id": "zF6M1RFGOMwi",
        "outputId": "772d68e1-448e-4be6-db8c-7be90a6e2a23"
      },
      "source": [
        "info.features\n"
      ],
      "execution_count": null,
      "outputs": [
        {
          "output_type": "execute_result",
          "data": {
            "text/plain": [
              "FeaturesDict({\n",
              "    'idx': tf.int32,\n",
              "    'label': ClassLabel(shape=(), dtype=tf.int64, num_classes=2),\n",
              "    'sentence1': Text(shape=(), dtype=tf.string),\n",
              "    'sentence2': Text(shape=(), dtype=tf.string),\n",
              "})"
            ]
          },
          "metadata": {
            "tags": []
          },
          "execution_count": 5
        }
      ]
    },
    {
      "cell_type": "code",
      "metadata": {
        "colab": {
          "base_uri": "https://localhost:8080/"
        },
        "id": "CfrzFLyAOQde",
        "outputId": "c9660112-ff78-4954-a8e5-e9f0f3210a51"
      },
      "source": [
        "info.features['label'].names\n"
      ],
      "execution_count": null,
      "outputs": [
        {
          "output_type": "execute_result",
          "data": {
            "text/plain": [
              "['not_equivalent', 'equivalent']"
            ]
          },
          "metadata": {
            "tags": []
          },
          "execution_count": 6
        }
      ]
    },
    {
      "cell_type": "code",
      "metadata": {
        "colab": {
          "base_uri": "https://localhost:8080/"
        },
        "id": "_VeQ1LjvOU2x",
        "outputId": "7c3e0d3d-7c18-4812-991c-ef24ae4c53c4"
      },
      "source": [
        "glue['train']"
      ],
      "execution_count": null,
      "outputs": [
        {
          "output_type": "execute_result",
          "data": {
            "text/plain": [
              "{'idx': <tf.Tensor: shape=(3668,), dtype=int32, numpy=array([1680, 1456, 3017, ..., 3682, 3619, 3624], dtype=int32)>,\n",
              " 'label': <tf.Tensor: shape=(3668,), dtype=int64, numpy=array([0, 0, 1, ..., 1, 0, 1])>,\n",
              " 'sentence1': <tf.Tensor: shape=(3668,), dtype=string, numpy=\n",
              " array([b'The identical rovers will act as robotic geologists , searching for evidence of past water .',\n",
              "        b\"Less than 20 percent of Boise 's sales would come from making lumber and paper after the OfficeMax purchase is completed .\",\n",
              "        b'Spider-Man snatched $ 114.7 million in its debut last year and went on to capture $ 403.7 million .',\n",
              "        ...,\n",
              "        b'Stack said he did no work for Triumph until 1999 , when a grand jury began investigating Silvester .',\n",
              "        b'The giant rock was first observed on August 24 by Lincoln Near-Earth Asteroid Research Program , based in Socorro , New Mexico .',\n",
              "        b\"Two of Collins ' top assistants will consult with state police during the investigation and determine if any federal laws were violated , he said Friday .\"],\n",
              "       dtype=object)>,\n",
              " 'sentence2': <tf.Tensor: shape=(3668,), dtype=string, numpy=\n",
              " array([b'The rovers act as robotic geologists , moving on six wheels .',\n",
              "        b\"Less than 20 percent of Boise 's sales would come from making lumber and paper after the OfficeMax purchase is complete , assuming those businesses aren 't sold .\",\n",
              "        b'Spider-Man , rated PG-13 , snatched $ 114.7 million in its first weekend and went on to take in $ 403.7 million .',\n",
              "        ...,\n",
              "        b'Stack testified that he was not asked to do any work for Triumph until June 1999 , after a grand jury investigating Silvester subpoenaed Triumph .',\n",
              "        b'The rock was first observed by the Lincoln Near Earth Asteroid Research Program , also known as LINEAR .',\n",
              "        b'U.S. Attorney Jeffrey Collins also said two of his assistants will consult with state police during the investigation and determine if any federal laws were broken .'],\n",
              "       dtype=object)>}"
            ]
          },
          "metadata": {
            "tags": []
          },
          "execution_count": 7
        }
      ]
    },
    {
      "cell_type": "code",
      "metadata": {
        "colab": {
          "base_uri": "https://localhost:8080/"
        },
        "id": "leuHGP6UOjL-",
        "outputId": "27387724-21a5-478e-f57d-603317bfd364"
      },
      "source": [
        "glue_train = glue['train']\n",
        "\n",
        "for key, value in glue_train.items():\n",
        "  print(f\"{key:9s}: {value[0].numpy()}\")"
      ],
      "execution_count": null,
      "outputs": [
        {
          "output_type": "stream",
          "text": [
            "idx      : 1680\n",
            "label    : 0\n",
            "sentence1: b'The identical rovers will act as robotic geologists , searching for evidence of past water .'\n",
            "sentence2: b'The rovers act as robotic geologists , moving on six wheels .'\n"
          ],
          "name": "stdout"
        }
      ]
    },
    {
      "cell_type": "markdown",
      "metadata": {
        "id": "HWfSE_LZQMCr"
      },
      "source": [
        "Each preprocessing model also provides a method, `.bert_pack_inputs(tensors, seq_length)`, which takes a list of tokens (like tok above) and a sequence length argument. This packs the inputs to create a dictionary of tensors in the format expected by the BERT model."
      ]
    },
    {
      "cell_type": "code",
      "metadata": {
        "colab": {
          "base_uri": "https://localhost:8080/"
        },
        "id": "T1AoUTfEO-j9",
        "outputId": "1e1fa870-5541-49a4-ba9b-fdc266f682aa"
      },
      "source": [
        "text_preprocessed = bert_preprocess.bert_pack_inputs([tok, tok], tf.constant(20))\n",
        "\n",
        "print('Shape Word Ids : ', text_preprocessed['input_word_ids'].shape)\n",
        "print('Word Ids       : ', text_preprocessed['input_word_ids'][0, :16])\n",
        "print('Shape Mask     : ', text_preprocessed['input_mask'].shape)\n",
        "print('Input Mask     : ', text_preprocessed['input_mask'][0, :16])\n",
        "print('Shape Type Ids : ', text_preprocessed['input_type_ids'].shape)\n",
        "print('Type Ids       : ', text_preprocessed['input_type_ids'][0, :16])"
      ],
      "execution_count": null,
      "outputs": [
        {
          "output_type": "stream",
          "text": [
            "Shape Word Ids :  (1, 20)\n",
            "Word Ids       :  tf.Tensor(\n",
            "[  101  7592 23435 12314   999   102  7592 23435 12314   999   102     0\n",
            "     0     0     0     0], shape=(16,), dtype=int32)\n",
            "Shape Mask     :  (1, 20)\n",
            "Input Mask     :  tf.Tensor([1 1 1 1 1 1 1 1 1 1 1 0 0 0 0 0], shape=(16,), dtype=int32)\n",
            "Shape Type Ids :  (1, 20)\n",
            "Type Ids       :  tf.Tensor([0 0 0 0 0 0 1 1 1 1 1 0 0 0 0 0], shape=(16,), dtype=int32)\n"
          ],
          "name": "stdout"
        }
      ]
    },
    {
      "cell_type": "markdown",
      "metadata": {
        "id": "e-eNoREuAMbR"
      },
      "source": [
        "### Step 5: Preprocessing Data using separate Tensorflow model"
      ]
    },
    {
      "cell_type": "code",
      "metadata": {
        "id": "7hZodpilPrWc"
      },
      "source": [
        "def make_bert_preprocess_model(sentence_features, seq_length=128):\n",
        "  \"\"\"Returns Model mapping string features to BERT inputs.\n",
        "\n",
        "  Args:\n",
        "    sentence_features: a list with the names of string-valued features.\n",
        "    seq_length: an integer that defines the sequence length of BERT inputs.\n",
        "\n",
        "  Returns:\n",
        "    A Keras Model that can be called on a list or dict of string Tensors\n",
        "    (with the order or names, resp., given by sentence_features) and\n",
        "    returns a dict of tensors for input to BERT.\n",
        "  \"\"\"\n",
        "\n",
        "  input_segments = [\n",
        "      tf.keras.layers.Input(shape=(), dtype=tf.string, name=ft)\n",
        "      for ft in sentence_features]\n",
        "\n",
        "  # Tokenize the text to word pieces.\n",
        "  bert_preprocess = hub.load(hub_handle_preprocess)\n",
        "  tokenizer = hub.KerasLayer(bert_preprocess.tokenize, name='tokenizer')\n",
        "  segments = [tokenizer(s) for s in input_segments]\n",
        "\n",
        "  truncated_segments = segments\n",
        "\n",
        "  # Pack inputs. The details (start/end token ids, dict of output tensors)\n",
        "  # are model-dependent, so this gets loaded from the SavedModel.\n",
        "  packer = hub.KerasLayer(bert_preprocess.bert_pack_inputs,\n",
        "                          arguments=dict(seq_length=seq_length),\n",
        "                          name='packer')\n",
        "  model_inputs = packer(truncated_segments)\n",
        "  return tf.keras.Model(input_segments, model_inputs)"
      ],
      "execution_count": null,
      "outputs": []
    },
    {
      "cell_type": "code",
      "metadata": {
        "colab": {
          "base_uri": "https://localhost:8080/"
        },
        "id": "0YtRDpSv4HqI",
        "outputId": "3e533310-cc0d-44b0-bf5d-e90ebb6cf9c4"
      },
      "source": [
        "sentence_features = ['my_input1', 'my_input2']\n",
        "input_segments = [\n",
        "      tf.keras.layers.Input(shape=(), dtype=tf.string, name=ft)\n",
        "      for ft in sentence_features]\n",
        "print(type(input_segments))\n",
        "print(input_segments)"
      ],
      "execution_count": null,
      "outputs": [
        {
          "output_type": "stream",
          "text": [
            "<class 'list'>\n",
            "[<KerasTensor: shape=(None,) dtype=string (created by layer 'my_input1')>, <KerasTensor: shape=(None,) dtype=string (created by layer 'my_input2')>]\n"
          ],
          "name": "stdout"
        }
      ]
    },
    {
      "cell_type": "code",
      "metadata": {
        "colab": {
          "base_uri": "https://localhost:8080/"
        },
        "id": "kSw7qbw8Rw61",
        "outputId": "3ed20281-4d1c-4bc6-ffb1-e6f0d123b41e"
      },
      "source": [
        "test_preprocess_model = make_bert_preprocess_model(['my_input1', 'my_input2'])\n",
        "test_text = [np.array(['Range rover is luxury car']),\n",
        "             np.array(['It can also be used for sports'])]\n",
        "text_preprocessed = test_preprocess_model(test_text)\n",
        "\n",
        "print('Type of output : ', type(text_preprocessed))\n",
        "print('Keys           : ', list(text_preprocessed.keys()))\n",
        "print('Shape Word Ids : ', text_preprocessed['input_word_ids'].shape)\n",
        "print('Word Ids       : ', text_preprocessed['input_word_ids'][0, :16])\n",
        "print('Shape Mask     : ', text_preprocessed['input_mask'].shape)\n",
        "print('Input Mask     : ', text_preprocessed['input_mask'][0, :16])\n",
        "print('Shape Type Ids : ', text_preprocessed['input_type_ids'].shape)\n",
        "print('Type Ids       : ', text_preprocessed['input_type_ids'][0, :16])"
      ],
      "execution_count": null,
      "outputs": [
        {
          "output_type": "stream",
          "text": [
            "Type of output :  <class 'dict'>\n",
            "Keys           :  ['input_word_ids', 'input_mask', 'input_type_ids']\n",
            "Shape Word Ids :  (1, 128)\n",
            "Word Ids       :  tf.Tensor(\n",
            "[  101  2846 13631  2003  9542  2482   102  2009  2064  2036  2022  2109\n",
            "  2005  2998   102     0], shape=(16,), dtype=int32)\n",
            "Shape Mask     :  (1, 128)\n",
            "Input Mask     :  tf.Tensor([1 1 1 1 1 1 1 1 1 1 1 1 1 1 1 0], shape=(16,), dtype=int32)\n",
            "Shape Type Ids :  (1, 128)\n",
            "Type Ids       :  tf.Tensor([0 0 0 0 0 0 0 1 1 1 1 1 1 1 1 0], shape=(16,), dtype=int32)\n"
          ],
          "name": "stdout"
        }
      ]
    },
    {
      "cell_type": "code",
      "metadata": {
        "colab": {
          "base_uri": "https://localhost:8080/",
          "height": 272
        },
        "id": "4vPMWGGqR_9M",
        "outputId": "c56f3727-41cd-4ff9-cf4f-362f76cb45f2"
      },
      "source": [
        "tf.keras.utils.plot_model(test_preprocess_model)\n"
      ],
      "execution_count": null,
      "outputs": [
        {
          "output_type": "execute_result",
          "data": {
            "image/png": "[encoded data removed]",
            "text/plain": [
              "<IPython.core.display.Image object>"
            ]
          },
          "metadata": {
            "tags": []
          },
          "execution_count": 13
        }
      ]
    },
    {
      "cell_type": "markdown",
      "metadata": {
        "id": "xPWZNQdZS0_d"
      },
      "source": [
        "### Step 6: Applying preprocessing model on entire dataset using `.map` method \n",
        "To apply the preprocessing in all the inputs from the dataset, we will use the `.map` function from the dataset. The result is then cached for performance."
      ]
    },
    {
      "cell_type": "code",
      "metadata": {
        "id": "wamG0Y1VT9DI"
      },
      "source": [
        "AUTOTUNE = tf.data.experimental.AUTOTUNE\n",
        "\n",
        "\"\"\" Here we will pass each inidividual Dataset like ['train','test','validation'] to function below \n",
        "    and this function will then applies the above TF preprocessing model on the provided inputs and \n",
        "    returns the Data ready for BERT input \"\"\"\n",
        "     \n",
        "def load_dataset_from_tfds(in_memory_ds, info, split, batch_size,\n",
        "                           bert_preprocess_model):\n",
        "  is_training = split.startswith('train')\n",
        "  dataset = tf.data.Dataset.from_tensor_slices(in_memory_ds[split])\n",
        "  num_examples = info.splits[split].num_examples\n",
        "\n",
        "  if is_training:\n",
        "    dataset = dataset.shuffle(num_examples)\n",
        "    dataset = dataset.repeat()\n",
        "  dataset = dataset.batch(batch_size)\n",
        "  dataset = dataset.map(lambda ex: (bert_preprocess_model(ex), ex['label']), num_parallel_calls = AUTOTUNE)\n",
        "  dataset = dataset.cache().prefetch(buffer_size=AUTOTUNE)\n",
        "  return dataset, num_examples"
      ],
      "execution_count": null,
      "outputs": []
    },
    {
      "cell_type": "markdown",
      "metadata": {
        "id": "iaELmwf26Ss6"
      },
      "source": [
        "### Step 7: Creating a TensorFlow Input Pipeline with `tf.data`\n",
        "\n",
        "We need to initialize the input layers to only accept the text data values by \n",
        "providing each layer names of those fields otherwise we'll get error as we are passing the whole glue data including `idx` and `label` fields that are not acceptable by input layers . \n"
      ]
    },
    {
      "cell_type": "code",
      "metadata": {
        "colab": {
          "base_uri": "https://localhost:8080/"
        },
        "id": "YoF4Fid3UYEl",
        "outputId": "dec7c093-fed2-41af-c77a-486939f766ea"
      },
      "source": [
        "\n",
        "epochs = 4\n",
        "batch_size = 32\n",
        "init_lr = 2e-5\n",
        "\n",
        "print(f'Creating Data for BERT')\n",
        "\n",
        "# Initializing Preprocessing model to only accept text fields as inputs\n",
        "sentence_features = ['sentence1', 'sentence2']\n",
        "bert_preprocess_model = make_bert_preprocess_model(sentence_features)\n",
        "\n",
        "# Running everything on CPU\n",
        "with tf.device('/cpu:0'):\n",
        "  # Train_data\n",
        "  train_data, train_data_size = load_dataset_from_tfds( glue, info, 'train', batch_size, bert_preprocess_model )\n",
        "  steps_per_epoch = train_data_size // batch_size\n",
        "  num_train_steps = steps_per_epoch * epochs\n",
        "  num_warmup_steps = num_train_steps // 10\n",
        "\n",
        "  # Valid data\n",
        "  valid_data, no_of_valid_examples = load_dataset_from_tfds( glue, info, 'validation', batch_size, bert_preprocess_model )\n",
        "  \n",
        "print(train_data_size)\n",
        "print(no_of_valid_examples)\n"
      ],
      "execution_count": null,
      "outputs": [
        {
          "output_type": "stream",
          "text": [
            "Creating Data for BERT\n",
            "3668\n",
            "408\n"
          ],
          "name": "stdout"
        },
        {
          "output_type": "stream",
          "text": [
            "/usr/local/lib/python3.7/dist-packages/tensorflow/python/keras/engine/functional.py:591: UserWarning: Input dict contained keys ['idx', 'label'] which did not match any model input. They will be ignored by the model.\n",
            "  [n for n in tensors.keys() if n not in ref_input_names])\n"
          ],
          "name": "stderr"
        }
      ]
    },
    {
      "cell_type": "markdown",
      "metadata": {
        "id": "ZKNSY7q1CuVi"
      },
      "source": [
        "The resulting `tf.data.Datasets` return `(features, labels)` pairs, as expected by [`keras.Model.fit`](https://www.tensorflow.org/api_docs/python/tf/keras/Model#fit):\n",
        "\n",
        "\n"
      ]
    },
    {
      "cell_type": "code",
      "metadata": {
        "colab": {
          "base_uri": "https://localhost:8080/"
        },
        "id": "brWCdRNXZKAm",
        "outputId": "bd90e41d-ce49-4dbc-faa0-2875e1273260"
      },
      "source": [
        "# train data spec\n",
        "train_data.element_spec"
      ],
      "execution_count": null,
      "outputs": [
        {
          "output_type": "execute_result",
          "data": {
            "text/plain": [
              "({'input_mask': TensorSpec(shape=(None, 128), dtype=tf.int32, name=None),\n",
              "  'input_type_ids': TensorSpec(shape=(None, 128), dtype=tf.int32, name=None),\n",
              "  'input_word_ids': TensorSpec(shape=(None, 128), dtype=tf.int32, name=None)},\n",
              " TensorSpec(shape=(None,), dtype=tf.int64, name=None))"
            ]
          },
          "metadata": {
            "tags": []
          },
          "execution_count": 25
        }
      ]
    },
    {
      "cell_type": "code",
      "metadata": {
        "colab": {
          "base_uri": "https://localhost:8080/"
        },
        "id": "5RbZ4eoSZUMr",
        "outputId": "abc4f9d4-365d-47af-a92a-8ead9778c9e0"
      },
      "source": [
        "# valid data spec\n",
        "valid_data.element_spec"
      ],
      "execution_count": null,
      "outputs": [
        {
          "output_type": "execute_result",
          "data": {
            "text/plain": [
              "({'input_mask': TensorSpec(shape=(None, 128), dtype=tf.int32, name=None),\n",
              "  'input_type_ids': TensorSpec(shape=(None, 128), dtype=tf.int32, name=None),\n",
              "  'input_word_ids': TensorSpec(shape=(None, 128), dtype=tf.int32, name=None)},\n",
              " TensorSpec(shape=(None,), dtype=tf.int64, name=None))"
            ]
          },
          "metadata": {
            "tags": []
          },
          "execution_count": 26
        }
      ]
    },
    {
      "cell_type": "code",
      "metadata": {
        "colab": {
          "base_uri": "https://localhost:8080/"
        },
        "id": "7r3RTz2RZW8B",
        "outputId": "4af5e161-44e5-4b94-f9b8-93ec8fceb403"
      },
      "source": [
        "train_data"
      ],
      "execution_count": null,
      "outputs": [
        {
          "output_type": "execute_result",
          "data": {
            "text/plain": [
              "<PrefetchDataset shapes: ({input_type_ids: (None, 128), input_word_ids: (None, 128), input_mask: (None, 128)}, (None,)), types: ({input_type_ids: tf.int32, input_word_ids: tf.int32, input_mask: tf.int32}, tf.int64)>"
            ]
          },
          "metadata": {
            "tags": []
          },
          "execution_count": 27
        }
      ]
    },
    {
      "cell_type": "markdown",
      "metadata": {
        "id": "gkIxYtI5DHJ4"
      },
      "source": [
        "### Step 8: Adding a Classification Head to the BERT `hub.KerasLayer`"
      ]
    },
    {
      "cell_type": "markdown",
      "metadata": {
        "id": "MCKrCNNqEhEU"
      },
      "source": [
        "<div align=\"right\">\n",
        "    <img width=\"512px\" src='https://drive.google.com/uc?id=1fnJTeJs5HUpz7nix-F9E6EZdgUflqyEu' />\n",
        "    <p style=\"text-align: center;color:gray\">Figure 3: BERT Layer</p>\n",
        "</div>"
      ]
    },
    {
      "cell_type": "code",
      "metadata": {
        "collapsed": true,
        "id": "rZkm6pbIVHQr"
      },
      "source": [
        "max_seq_length = 128\n",
        "\n",
        "# Building the model\n",
        "def create_model():\n",
        "  input_word_ids = tf.keras.layers.Input(shape=(max_seq_length,), dtype=tf.int32,\n",
        "                                         name = \"input_word_ids\")\n",
        "  input_mask = tf.keras.layers.Input(shape=(max_seq_length,), dtype=tf.int32,\n",
        "                                   name = \"input_mask\")\n",
        "  input_type_ids=tf.keras.layers.Input(shape=(max_seq_length,), dtype=tf.int32,\n",
        "                                       name = \"input_type_ids\")\n",
        "  \n",
        "  encoder_inputs = dict(input_word_ids = input_word_ids ,input_mask = input_mask,input_type_ids = input_type_ids  )\n",
        "  bert_layer = hub.KerasLayer(\"https://tfhub.dev/tensorflow/bert_en_uncased_L-12_H-768_A-12/4\" , trainable = True , name = 'encoder')\n",
        "  \n",
        "  outputs  = bert_layer(encoder_inputs)\n",
        "  pooled_output = outputs[\"pooled_output\"]      \n",
        "  \n",
        "  drop = tf.keras.layers.Dropout(0.4)(pooled_output)\n",
        "  output = tf.keras.layers.Dense(2, activation=None, name=\"output\")(drop)\n",
        "\n",
        "  model = tf.keras.Model(\n",
        "      inputs={\n",
        "      'input_word_ids': input_word_ids,\n",
        "       'input_mask': input_mask,\n",
        "       'input_type_ids': input_type_ids\n",
        "  },\n",
        "      outputs=output)\n",
        "  return model\n"
      ],
      "execution_count": null,
      "outputs": []
    },
    {
      "cell_type": "code",
      "metadata": {
        "colab": {
          "base_uri": "https://localhost:8080/"
        },
        "id": "69Uuz-GU-Jt4",
        "outputId": "77547e6f-cf61-4fab-b66b-c21260568f82"
      },
      "source": [
        "test_classifier_model = create_model()\n",
        "bert_raw_result = test_classifier_model(text_preprocessed)\n",
        "tf.sigmoid(bert_raw_result)\n"
      ],
      "execution_count": null,
      "outputs": [
        {
          "output_type": "execute_result",
          "data": {
            "text/plain": [
              "<tf.Tensor: shape=(1, 2), dtype=float32, numpy=array([[0.15186939, 0.7111434 ]], dtype=float32)>"
            ]
          },
          "metadata": {
            "tags": []
          },
          "execution_count": 39
        }
      ]
    },
    {
      "cell_type": "code",
      "metadata": {
        "colab": {
          "base_uri": "https://localhost:8080/"
        },
        "id": "xu4PyVOrIBgD",
        "outputId": "ca8b7161-3176-4b3a-f888-dcdf860a0f13"
      },
      "source": [
        "np.argmax(tf.sigmoid(bert_raw_result))"
      ],
      "execution_count": null,
      "outputs": [
        {
          "output_type": "execute_result",
          "data": {
            "text/plain": [
              "1"
            ]
          },
          "metadata": {
            "tags": []
          },
          "execution_count": 40
        }
      ]
    },
    {
      "cell_type": "code",
      "metadata": {
        "colab": {
          "base_uri": "https://localhost:8080/",
          "height": 369
        },
        "id": "jjqEy29Z_VcL",
        "outputId": "7f03727e-eb5f-4754-87e9-37eaa2a1b1ef"
      },
      "source": [
        "tf.keras.utils.plot_model(test_classifier_model)\n"
      ],
      "execution_count": null,
      "outputs": [
        {
          "output_type": "execute_result",
          "data": {
            "image/png": "[encoded data removed]",
            "text/plain": [
              "<IPython.core.display.Image object>"
            ]
          },
          "metadata": {
            "tags": []
          },
          "execution_count": 41
        }
      ]
    },
    {
      "cell_type": "code",
      "metadata": {
        "id": "1FYiYHn2abrO"
      },
      "source": [
        "# Setting configuration for model\n",
        "def get_configuration():\n",
        "\n",
        "  loss = loss = tf.keras.losses.SparseCategoricalCrossentropy(from_logits=True),\n",
        "\n",
        "  metric = tf.keras.metrics.SparseCategoricalAccuracy(\n",
        "        'accuracy', dtype=tf.float32)\n",
        "\n",
        "  return metric, loss"
      ],
      "execution_count": null,
      "outputs": []
    },
    {
      "cell_type": "markdown",
      "metadata": {
        "id": "GevMcPZDEw_s"
      },
      "source": [
        "### Step 9: Fine-Tuning BERT for sentence pairs Classification\n",
        "### Optimizor\n",
        "\n",
        "For fine-tuning, let's use the same optimizer that BERT was originally trained with: the \"Adaptive Moments\" (Adam). This optimizer minimizes the prediction loss and does regularization by weight decay (not using moments), which is also known as [`AdamW`](https://arxiv.org/abs/1711.05101).\n",
        "\n",
        "For the learning rate (init_lr), we will use the same schedule as BERT pre-training: linear decay of a notional initial learning rate, prefixed with a linear warm-up phase over the first 10% of training steps (num_warmup_steps). In line with the BERT paper, the initial learning rate is smaller for fine-tuning (best of 5e-5, 3e-5, 2e-5)."
      ]
    },
    {
      "cell_type": "code",
      "metadata": {
        "collapsed": true,
        "id": "V9WiQSQtc_mB"
      },
      "source": [
        "## Instantiating the model\n",
        "classifier_model = create_model()\n",
        "\n",
        "optimizer = optimization.create_optimizer(\n",
        "      init_lr=init_lr,\n",
        "      num_train_steps=num_train_steps,\n",
        "      num_warmup_steps=num_warmup_steps,\n",
        "      optimizer_type='adamw')\n"
      ],
      "execution_count": null,
      "outputs": []
    },
    {
      "cell_type": "code",
      "metadata": {
        "colab": {
          "base_uri": "https://localhost:8080/"
        },
        "id": "uUF_2eFXdeGq",
        "outputId": "983d0db1-e42b-4ac6-f582-bb009ebaed0d"
      },
      "source": [
        "# Compiling the model\n",
        "metric, loss = get_configuration()\n",
        "\n",
        "classifier_model.compile(optimizer=optimizer,\n",
        "              loss=loss,\n",
        "              metrics = metric)\n",
        "classifier_model.summary()"
      ],
      "execution_count": null,
      "outputs": [
        {
          "output_type": "stream",
          "text": [
            "Model: \"model_8\"\n",
            "__________________________________________________________________________________________________\n",
            "Layer (type)                    Output Shape         Param #     Connected to                     \n",
            "==================================================================================================\n",
            "input_mask (InputLayer)         [(None, 128)]        0                                            \n",
            "__________________________________________________________________________________________________\n",
            "input_type_ids (InputLayer)     [(None, 128)]        0                                            \n",
            "__________________________________________________________________________________________________\n",
            "input_word_ids (InputLayer)     [(None, 128)]        0                                            \n",
            "__________________________________________________________________________________________________\n",
            "encoder (KerasLayer)            {'encoder_outputs':  109482241   input_mask[0][0]                 \n",
            "                                                                 input_type_ids[0][0]             \n",
            "                                                                 input_word_ids[0][0]             \n",
            "__________________________________________________________________________________________________\n",
            "dropout_5 (Dropout)             (None, 768)          0           encoder[0][13]                   \n",
            "__________________________________________________________________________________________________\n",
            "output (Dense)                  (None, 2)            1538        dropout_5[0][0]                  \n",
            "==================================================================================================\n",
            "Total params: 109,483,779\n",
            "Trainable params: 109,483,778\n",
            "Non-trainable params: 1\n",
            "__________________________________________________________________________________________________\n"
          ],
          "name": "stdout"
        }
      ]
    },
    {
      "cell_type": "code",
      "metadata": {
        "colab": {
          "base_uri": "https://localhost:8080/",
          "height": 227
        },
        "id": "Eug6nSC1AwDn",
        "outputId": "5f8efe39-74c9-4268-a96d-c1dafd39a649"
      },
      "source": [
        "tf.keras.utils.plot_model(model = classifier_model, show_shapes = True, dpi=76 )"
      ],
      "execution_count": null,
      "outputs": [
        {
          "output_type": "execute_result",
          "data": {
            "image/png": "[encoded data removed]",
            "text/plain": [
              "<IPython.core.display.Image object>"
            ]
          },
          "metadata": {
            "tags": []
          },
          "execution_count": 50
        }
      ]
    },
    {
      "cell_type": "code",
      "metadata": {
        "colab": {
          "base_uri": "https://localhost:8080/"
        },
        "id": "efkT44NoAzZO",
        "outputId": "1971d1da-9745-4799-9fc0-90cc68ff4c5e"
      },
      "source": [
        "for text , labls in train_data.take(1):\n",
        "  print(labls)"
      ],
      "execution_count": null,
      "outputs": [
        {
          "output_type": "stream",
          "text": [
            "tf.Tensor([1 0 1 1 0 1 0 1 1 1 0 1 1 0 1 1 0 0 0 1 1 1 0 0 1 0 0 0 1 1 1 1], shape=(32,), dtype=int64)\n"
          ],
          "name": "stdout"
        }
      ]
    },
    {
      "cell_type": "code",
      "metadata": {
        "colab": {
          "base_uri": "https://localhost:8080/"
        },
        "id": "nAXhdEsbA52h",
        "outputId": "26ad200d-0030-4869-cc36-7e2be50a0415"
      },
      "source": [
        "# Training the model\n",
        "\n",
        "validation_steps = no_of_valid_examples // batch_size\n",
        "\n",
        "history = classifier_model.fit(\n",
        "      x=train_data,\n",
        "      validation_data=valid_data,\n",
        "      steps_per_epoch=steps_per_epoch,\n",
        "      epochs=epochs,\n",
        "      validation_steps=validation_steps)"
      ],
      "execution_count": null,
      "outputs": [
        {
          "output_type": "stream",
          "text": [
            "Epoch 1/4\n",
            "114/114 [==============================] - 104s 860ms/step - loss: 0.6999 - accuracy: 0.6277 - val_loss: 0.5268 - val_accuracy: 0.7578\n",
            "Epoch 2/4\n",
            "114/114 [==============================] - 97s 847ms/step - loss: 0.4899 - accuracy: 0.7610 - val_loss: 0.4889 - val_accuracy: 0.8047\n",
            "Epoch 3/4\n",
            "114/114 [==============================] - 97s 848ms/step - loss: 0.3667 - accuracy: 0.8448 - val_loss: 0.4536 - val_accuracy: 0.8333\n",
            "Epoch 4/4\n",
            "114/114 [==============================] - 97s 847ms/step - loss: 0.2702 - accuracy: 0.8873 - val_loss: 0.5136 - val_accuracy: 0.8411\n"
          ],
          "name": "stdout"
        }
      ]
    },
    {
      "cell_type": "markdown",
      "metadata": {
        "id": "TbqBUhnQF5y_"
      },
      "source": [
        "### Step 10: Evaluating Model performance visually"
      ]
    },
    {
      "cell_type": "code",
      "metadata": {
        "id": "jXx3vNIJBUbu"
      },
      "source": [
        "import matplotlib.pyplot as plt\n",
        "\n",
        "def plot_graphs(history, metric):\n",
        "  plt.plot(history.history[metric])\n",
        "  plt.plot(history.history['val_'+metric], '')\n",
        "  plt.xlabel(\"Epochs\")\n",
        "  plt.ylabel(metric)\n",
        "  plt.legend([metric, 'val_'+metric])\n",
        "  plt.show()"
      ],
      "execution_count": null,
      "outputs": []
    },
    {
      "cell_type": "code",
      "metadata": {
        "colab": {
          "base_uri": "https://localhost:8080/",
          "height": 279
        },
        "id": "g2hZAWGDGCfN",
        "outputId": "f8dce0d7-c960-4410-b190-b65a1ed64acf"
      },
      "source": [
        "plot_graphs(history,'loss')"
      ],
      "execution_count": null,
      "outputs": [
        {
          "output_type": "display_data",
          "data": {
            "image/png": "[encoded data removed]",
            "text/plain": [
              "<Figure size 432x288 with 1 Axes>"
            ]
          },
          "metadata": {
            "tags": [],
            "needs_background": "light"
          }
        }
      ]
    },
    {
      "cell_type": "code",
      "metadata": {
        "colab": {
          "base_uri": "https://localhost:8080/",
          "height": 283
        },
        "id": "oX5-n4WGGFan",
        "outputId": "67f0f2b1-df5c-403f-9074-e7eddc38a52f"
      },
      "source": [
        "plot_graphs(history,'accuracy')"
      ],
      "execution_count": null,
      "outputs": [
        {
          "output_type": "display_data",
          "data": {
            "image/png": "[encoded data removed]",
            "text/plain": [
              "<Figure size 432x288 with 1 Axes>"
            ]
          },
          "metadata": {
            "tags": [],
            "needs_background": "light"
          }
        }
      ]
    },
    {
      "cell_type": "markdown",
      "metadata": {
        "id": "DjSnB737GQKu"
      },
      "source": [
        "## Step 11: Exporting Model for Inference\n",
        "\n",
        "We will create a final model that has the preprocessing part and the fine-tuned BERT we've just created.\n",
        "\n",
        "At inference time, preprocessing needs to be part of the model. Preprocessing is not just computation; it has its own resources (the vocab table) that must be attached to the Keras Model that is saved for export. This final assembly is what will be saved."
      ]
    },
    {
      "cell_type": "code",
      "metadata": {
        "colab": {
          "base_uri": "https://localhost:8080/"
        },
        "id": "2tGiw0sqHUAO",
        "outputId": "210880af-3d7c-476b-c026-e07fbaa85d3a"
      },
      "source": [
        "tfds_name = 'glue/mrpc'\n",
        "main_save_path = './my_models_BERT'\n",
        "\n",
        "bert_type = hub_bert_url.split('/')[-2]\n",
        "saved_model_name = f'{tfds_name.replace(\"/\", \"_\")}_{bert_type}'\n",
        "print(hub_bert_url)\n",
        "print(bert_type)\n",
        "print(saved_model_name)\n",
        "\n",
        "saved_model_path = os.path.join(main_save_path, saved_model_name)\n",
        "print(saved_model_path)"
      ],
      "execution_count": null,
      "outputs": [
        {
          "output_type": "stream",
          "text": [
            "https://tfhub.dev/tensorflow/bert_en_uncased_L-12_H-768_A-12/4\n",
            "bert_en_uncased_L-12_H-768_A-12\n",
            "glue_mrpc_bert_en_uncased_L-12_H-768_A-12\n",
            "./my_models_BERT/glue_mrpc_bert_en_uncased_L-12_H-768_A-12\n"
          ],
          "name": "stdout"
        }
      ]
    },
    {
      "cell_type": "code",
      "metadata": {
        "colab": {
          "base_uri": "https://localhost:8080/"
        },
        "id": "5AeJDSLmHT0r",
        "outputId": "8d714d82-76bf-4501-a3d1-5fc548f11e5a"
      },
      "source": [
        "bert_preprocess_model.inputs"
      ],
      "execution_count": null,
      "outputs": [
        {
          "output_type": "execute_result",
          "data": {
            "text/plain": [
              "[<KerasTensor: shape=(None,) dtype=string (created by layer 'sentence1')>,\n",
              " <KerasTensor: shape=(None,) dtype=string (created by layer 'sentence2')>]"
            ]
          },
          "metadata": {
            "tags": []
          },
          "execution_count": 58
        }
      ]
    },
    {
      "cell_type": "code",
      "metadata": {
        "colab": {
          "base_uri": "https://localhost:8080/"
        },
        "id": "W5LCi2FaJNav",
        "outputId": "502d60e5-6761-4cab-cb03-0c06ad65ac6d"
      },
      "source": [
        "preprocess_inputs = bert_preprocess_model.inputs\n",
        "bert_preprocess_model(preprocess_inputs)"
      ],
      "execution_count": null,
      "outputs": [
        {
          "output_type": "execute_result",
          "data": {
            "text/plain": [
              "{'input_mask': <KerasTensor: shape=(None, 128) dtype=int32 (created by layer 'model_4')>,\n",
              " 'input_type_ids': <KerasTensor: shape=(None, 128) dtype=int32 (created by layer 'model_4')>,\n",
              " 'input_word_ids': <KerasTensor: shape=(None, 128) dtype=int32 (created by layer 'model_4')>}"
            ]
          },
          "metadata": {
            "tags": []
          },
          "execution_count": 59
        }
      ]
    },
    {
      "cell_type": "code",
      "metadata": {
        "colab": {
          "base_uri": "https://localhost:8080/"
        },
        "id": "GnR29prvJZUu",
        "outputId": "0c8efd9d-9d47-4b51-91ca-968501fd6cdd"
      },
      "source": [
        "bert_encoder_inputs = bert_preprocess_model(preprocess_inputs)\n",
        "classifier_model(bert_encoder_inputs)"
      ],
      "execution_count": null,
      "outputs": [
        {
          "output_type": "execute_result",
          "data": {
            "text/plain": [
              "<KerasTensor: shape=(None, 2) dtype=float32 (created by layer 'model_8')>"
            ]
          },
          "metadata": {
            "tags": []
          },
          "execution_count": 60
        }
      ]
    },
    {
      "cell_type": "code",
      "metadata": {
        "colab": {
          "base_uri": "https://localhost:8080/",
          "height": 250
        },
        "id": "kncIpkL5KLUx",
        "outputId": "2af25140-779a-4829-d56c-caab8ea867f4"
      },
      "source": [
        "# Merging both preprocessor and BERT model for inference\n",
        "# As we can see in below plot the model can directly handle raw inputs and shows final results\n",
        "\n",
        "bert_outputs = classifier_model(bert_encoder_inputs)\n",
        "model_for_export = tf.keras.Model(preprocess_inputs, bert_outputs)\n",
        "tf.keras.utils.plot_model(model = model_for_export, show_shapes = True, dpi=76 )"
      ],
      "execution_count": null,
      "outputs": [
        {
          "output_type": "execute_result",
          "data": {
            "image/png": "[encoded data removed]",
            "text/plain": [
              "<IPython.core.display.Image object>"
            ]
          },
          "metadata": {
            "tags": []
          },
          "execution_count": 61
        }
      ]
    },
    {
      "cell_type": "code",
      "metadata": {
        "colab": {
          "base_uri": "https://localhost:8080/"
        },
        "id": "_tbRP3rKGH0F",
        "outputId": "4618a7f7-e31c-4494-f301-9bd848036462"
      },
      "source": [
        "main_save_path = './my_models_BERT'\n",
        "bert_type = hub_bert_url.split('/')[-2]\n",
        "saved_model_name = f'{tfds_name.replace(\"/\", \"_\")}_{bert_type}'\n",
        "\n",
        "saved_model_path = os.path.join(main_save_path, saved_model_name)\n",
        "\n",
        "preprocess_inputs = bert_preprocess_model.inputs\n",
        "bert_encoder_inputs = bert_preprocess_model(preprocess_inputs)\n",
        "bert_outputs = classifier_model(bert_encoder_inputs)\n",
        "model_for_export = tf.keras.Model(preprocess_inputs, bert_outputs)\n",
        "\n",
        "print('Saving', saved_model_path)\n",
        "\n",
        "# Save everything on the Colab host (even the variables from GPU memory)\n",
        "save_options = tf.saved_model.SaveOptions(experimental_io_device='/job:localhost')\n",
        "model_for_export.save(saved_model_path, include_optimizer=False,\n",
        "                      options=save_options)"
      ],
      "execution_count": null,
      "outputs": [
        {
          "output_type": "stream",
          "text": [
            "Saving ./my_models_BERT/glue_mrpc_bert_en_uncased_L-12_H-768_A-12\n"
          ],
          "name": "stdout"
        },
        {
          "output_type": "stream",
          "text": [
            "WARNING:absl:Found untraced functions such as restored_function_body, restored_function_body, restored_function_body, restored_function_body, restored_function_body while saving (showing 5 of 915). These functions will not be directly callable after loading.\n"
          ],
          "name": "stderr"
        }
      ]
    },
    {
      "cell_type": "markdown",
      "metadata": {
        "id": "eKQ3TGzOLgJi"
      },
      "source": [
        "### Step 12: Testing the model"
      ]
    },
    {
      "cell_type": "code",
      "metadata": {
        "id": "b2LVvdrfK4FE"
      },
      "source": [
        "reloaded_model = tf.saved_model.load(saved_model_path)\n"
      ],
      "execution_count": null,
      "outputs": []
    },
    {
      "cell_type": "code",
      "metadata": {
        "colab": {
          "base_uri": "https://localhost:8080/"
        },
        "id": "p4EK7OZEMd3S",
        "collapsed": true,
        "outputId": "c2b1ad60-5918-4e76-9ebe-18a9f56f3728"
      },
      "source": [
        "glue['validation']"
      ],
      "execution_count": null,
      "outputs": [
        {
          "output_type": "execute_result",
          "data": {
            "text/plain": [
              "{'idx': <tf.Tensor: shape=(408,), dtype=int32, numpy=\n",
              " array([3155, 2472, 3584, 3523, 1782, 3741, 2301, 3130, 2894, 3013, 3237,\n",
              "        1924, 3518, 2767, 3733, 1143, 1596, 3193,  813, 3989,   77, 2067,\n",
              "        2343,  245, 3356, 2289, 3961, 1384, 2243,  404, 3457, 3261,  647,\n",
              "        1306,   73, 4023,  674, 4020, 1967,  508,  613, 2439, 2051, 1036,\n",
              "         620, 2932, 3281, 2124, 1436,  371, 1349, 2205, 1067, 3699,  594,\n",
              "        1748,  417,  842, 2111,    9,  416,  222,  983, 2286, 1794, 3775,\n",
              "        1755, 2396, 3575, 2394, 1218, 2655, 1069,  781, 3470, 1903, 2597,\n",
              "        1102, 1080, 3531, 1567, 1746, 3153, 3210, 3423, 2547, 2777, 3783,\n",
              "        3647,  990, 1592, 2350, 1076, 2828, 2713,  978,  686, 3167, 2876,\n",
              "        3120, 1639, 2267,  354, 1540, 1371, 2656, 1646, 2834,  741, 3412,\n",
              "        2352, 2469, 1326, 3889, 3887, 1745,  663, 2346, 1923, 1550, 1107,\n",
              "        2297, 2381, 3668,  230, 3501, 1500,  540, 1203, 3773, 2249,  558,\n",
              "        3615,  392,  897, 4053, 2539, 1489, 2698, 3382, 2572,  852, 3998,\n",
              "         374,  571, 3792, 3654,  435,  924, 2196, 3876,  359, 1916, 2223,\n",
              "        1166, 1722, 1375, 1616, 1660, 1834,  694, 2551, 2727, 2457, 2827,\n",
              "        2822,  796, 1800, 1305, 3839,   33, 1161, 3399, 2994, 2863,  792,\n",
              "         775, 2519, 3239,  125,  865, 3868, 2165, 3142,  584, 3506,  395,\n",
              "        3452, 3216, 1612,  974,  615, 2610, 3476, 3662, 3119, 1796, 2821,\n",
              "         476,   32,  185, 1890, 2731, 3774,   55, 3316, 3145,   92,  331,\n",
              "         426, 2446, 2775,  313, 3563, 2432, 1094, 3251,  732, 1162,  695,\n",
              "          18,  518, 1083, 3411, 4049, 1121, 2398, 4028, 3319,  391, 2494,\n",
              "        2024, 4040, 3392, 2250, 1932, 3997, 3289, 3184, 3705,  102, 2417,\n",
              "        2247, 2730,   50,  375, 3323, 1188, 1999, 3404,  718, 1737, 2793,\n",
              "        1428, 1979, 1664, 1792,  812, 2732, 3599, 1340, 3401, 3732,  657,\n",
              "         472, 3589,   25, 2077, 2501, 1983, 3538, 2697,  598, 3312, 3183,\n",
              "         127, 2307, 1242, 1050,  552, 2627, 1039, 1487, 1911,  664, 2588,\n",
              "         326, 2841, 3376, 1003, 2875, 2126, 2163, 2784,  366, 3639,  284,\n",
              "        2649, 3313, 1470, 1997, 2428,  175,  700, 1373, 3729, 1073, 2264,\n",
              "         839, 3788, 1477,  173, 3364,  966, 3351,   79, 1699,  468,  688,\n",
              "        1109, 3975, 1291,   83, 2231,  467, 1822, 1976, 2181, 1414, 3689,\n",
              "        3555, 4014, 1854, 3673, 2577, 2392, 2328, 3003, 3583, 1562, 3778,\n",
              "        3433,  195, 1818,  609, 1019, 3720, 1124, 3441, 3753, 1480, 1353,\n",
              "        2047, 1365, 2443,  238, 1361, 1995, 1228,  497,   54, 2751, 2361,\n",
              "        3643,  702, 3140, 3177, 3021, 3483, 1812, 2987, 2719, 1005, 3755,\n",
              "        1115, 1703, 2009, 1628, 3125,  601,  334, 2582, 1423, 1344, 1579,\n",
              "         488, 2568,  143, 2415, 2272, 1246,  377,  617,  821, 3748, 2829,\n",
              "        3636,  129,  548, 2892,  885,  543, 2734,  968, 2000, 1556, 3010,\n",
              "        3922], dtype=int32)>,\n",
              " 'label': <tf.Tensor: shape=(408,), dtype=int64, numpy=\n",
              " array([1, 1, 0, 1, 1, 1, 1, 1, 0, 1, 0, 0, 0, 1, 1, 0, 1, 1, 1, 1, 1, 1,\n",
              "        1, 1, 0, 1, 1, 0, 1, 1, 1, 1, 1, 1, 1, 0, 1, 1, 1, 1, 0, 0, 1, 1,\n",
              "        0, 0, 0, 1, 1, 1, 1, 1, 1, 1, 1, 0, 0, 1, 0, 1, 0, 0, 1, 1, 0, 0,\n",
              "        1, 0, 1, 1, 1, 0, 1, 1, 1, 1, 0, 1, 1, 0, 1, 1, 1, 0, 0, 1, 1, 0,\n",
              "        1, 1, 1, 0, 1, 1, 1, 1, 1, 0, 1, 1, 0, 1, 1, 1, 0, 1, 1, 1, 1, 1,\n",
              "        1, 0, 1, 1, 1, 1, 1, 1, 1, 0, 1, 1, 1, 1, 1, 0, 1, 1, 0, 1, 1, 1,\n",
              "        0, 1, 1, 1, 1, 1, 1, 1, 1, 1, 0, 0, 1, 1, 0, 1, 0, 1, 1, 1, 1, 0,\n",
              "        1, 1, 0, 1, 0, 1, 0, 1, 1, 1, 1, 1, 1, 1, 0, 1, 0, 1, 0, 1, 1, 0,\n",
              "        0, 0, 0, 1, 0, 1, 1, 0, 0, 1, 0, 1, 0, 1, 1, 1, 1, 0, 0, 1, 1, 1,\n",
              "        1, 1, 0, 1, 1, 1, 1, 1, 0, 0, 1, 0, 1, 1, 1, 1, 1, 0, 0, 1, 1, 1,\n",
              "        0, 1, 0, 1, 0, 1, 1, 1, 1, 1, 0, 0, 1, 1, 0, 1, 1, 1, 1, 0, 1, 1,\n",
              "        1, 1, 1, 0, 1, 1, 1, 1, 0, 0, 0, 1, 1, 0, 0, 0, 1, 1, 0, 0, 0, 1,\n",
              "        1, 1, 0, 0, 1, 1, 0, 0, 1, 0, 0, 1, 1, 1, 0, 1, 1, 0, 1, 0, 1, 1,\n",
              "        1, 0, 1, 1, 1, 1, 0, 0, 1, 1, 0, 0, 1, 0, 0, 1, 0, 1, 1, 0, 1, 1,\n",
              "        0, 1, 1, 1, 1, 1, 1, 1, 1, 0, 1, 1, 1, 1, 0, 1, 1, 0, 0, 1, 1, 1,\n",
              "        1, 1, 0, 1, 0, 0, 1, 1, 1, 1, 1, 0, 1, 1, 1, 1, 0, 1, 1, 1, 1, 0,\n",
              "        1, 0, 1, 1, 1, 1, 1, 1, 0, 0, 0, 0, 1, 0, 1, 1, 1, 0, 1, 1, 0, 0,\n",
              "        1, 1, 1, 1, 0, 1, 0, 1, 1, 0, 1, 1, 0, 0, 1, 1, 0, 0, 1, 1, 1, 1,\n",
              "        1, 1, 1, 0, 1, 1, 1, 1, 1, 0, 1, 1])>,\n",
              " 'sentence1': <tf.Tensor: shape=(408,), dtype=string, numpy=\n",
              " array([b\"The show 's closure affected third-quarter earnings per share by a penny .\",\n",
              "        b'Terri Schiavo , 39 , underwent the procedure at the Tampa Bay area hospice where she has been living for several years , said her father , Bob Schindler .',\n",
              "        b'The study , published Monday in the journal Molecular Brain Research , is likely to also apply to humans , its authors said .',\n",
              "        b'It also offers a built-in NAND flash boot loader so that high-density NAND flash memory can be used without having to install an additional support chip .',\n",
              "        b\"Dr Mark McClean , Jonathan 's family doctor , said if the drug had been administered earlier Jonathan would have retained more of his brain functions .\",\n",
              "        b'\" There were more people surrounding the clubhouse than the Unabomber \\'s house up in the hills , \" Baker said .',\n",
              "        b'The announcement was made during the recording of a Christmas concert attended by top Vatican cardinals , bishops , and many elite from Italian society , witnesses said .',\n",
              "        b'The worm attacks Windows computers via a hole in the operating system , an issue Microsoft on July 16 had warned about .',\n",
              "        b'Mr. Kerkorian tried unsuccessfully to take over Chrysler in 1995 , but did win representation on its board .',\n",
              "        b'Witnesses said they believed the man planned to crash the Launceston-bound Qantas flight 1737 , which was carrying 47 passengers and six crew .',\n",
              "        b'Police suspected that Shaichat , 20 , had been abducted either by Palestinians or by Israeli Arabs .',\n",
              "        b'About two hours later , his body , wrapped in a blanket , was found dumped a few blocks away .',\n",
              "        b'The Hartford shares rose $ 2.88 , or 6.6 percent , to close Monday at $ 46.50 on the New York Stock Exchange .',\n",
              "        b'Federal Emergency Management Administration designated $ 20 million to establish the registry .',\n",
              "        b\"Blair 's Foreign Secretary Jack Straw was to take his place on Monday to give a statement to parliament on the European Union .\",\n",
              "        b'One way or another , Harry Potter And The Order Of The Phoenix will be in your hands by Saturday .',\n",
              "        b\"A nationally board certified teacher with a master 's degree , Kelley makes a salary of $ 65,000 in his 30th year .\",\n",
              "        b'\" It is probably not the easiest time to come in and take over the shuttle program , but then again , I look forward to the challenge , \" he said .',\n",
              "        b'University of Michigan President Mary Sue Coleman said in a statement on the university \\'s Web site , \" Our fundamental values haven \\'t changed .',\n",
              "        b'The jury verdict , reached Wednesday after less than four hours of deliberation , followed a 2 week trial , during which Waagner represented himself .',\n",
              "        b'The results appear in the January issue of Cancer , an American Cancer Society journal , being published online today .',\n",
              "        b'Gilead had earnings of $ 73.1 million , or 33 cents a share , compared with $ 20.8 million , or 10 cents , in the year-ago quarter .',\n",
              "        b\"The player 's eyes were bloodshot and a blood-alcohol test produced a reading of 0.18 - well above Tennessee 's level of presumed intoxication of 0.10 , the report said .\",\n",
              "        b'Its closest living relatives are a family frogs called sooglossidae that are found only in the Seychelles in the Indian Ocean .',\n",
              "        b'The other inmate fell but Selenski shimmed down the makeshift rope to a second-story roof and used the mattress to scale a razor-wire fence , Fischi said .',\n",
              "        b'He said his hatred for such people grew from these discussions and had helped convince him violence was the answer .',\n",
              "        b'Only one of the five buildings in the Baghdad compound of the United Nations Development Program escaped being burned , the UN said on its Web site .',\n",
              "        b'Bob Richter , a spokesman for House Speaker Tom Craddick , had no comment about the ruling .',\n",
              "        b'The legal ruling follows three days of intense speculation Hewlett-Packard Co. may be bidding for the company .',\n",
              "        b'Authorities had no evidence to suggest the two incidents were connected .',\n",
              "        b'\" I will support a constitutional amendment which would honor marriage between a man and a woman , codify that , \" he said .',\n",
              "        b'Sony said the PSP would also feature a 4.5-inch LCD screen , Memory Stick expansion slots .',\n",
              "        b'The rate of skin cancer has tripled since the 1950s in Norway and Sweden , according to the study .',\n",
              "        b'\" Overwhelmingly the Windows brand really resonated with them . \"',\n",
              "        b'The top rate will go to 4.45 percent for all residents with taxable incomes above $ 500,000 .',\n",
              "        b'Their contract will expire at 12 : 01 a.m. Wednesday instead of 12 : 01 a.m. Sunday , said Rian Wathen , organizing director for United Food and Commercial Workers Local 700 .',\n",
              "        b'Peterson , 31 , is now charged with murder in the deaths of his 27-year-old wife and their unborn son .',\n",
              "        b'Gregory Parseghian , a former investment banker , was appointed chief executive .',\n",
              "        b'A year or two later , 259 , or 10 per cent , of the youths reported that they had started to smoke , or had taken just a few puffs .',\n",
              "        b'Robert Liscouski , the Assistant Secretary of Homeland Security for Infrastructure Protection , will oversee NCSD .',\n",
              "        b'The Dow Jones industrial average ended the day down 10.89 at 9,837.94 , after advancing 111.04 Wednesday .',\n",
              "        b'But late Thursday night , the campaign issued a statement saying there would be no news conference and no big announcement .',\n",
              "        b'Gasps could be heard in the courtroom when the photo was displayed .',\n",
              "        b\"Twenty-eight people were believed to have been spending Christmas Day with the caretaker of the St Sophia 's camp , when the mudslide smashed into two cabins .\",\n",
              "        b'\" Biotech products , if anything , may be safer than conventional products because of all the testing , \" Fraley said , adding that 18 countries have adopted biotechnology .',\n",
              "        b'Glover spoke at a news conference that included about 20 relatives of the victims .',\n",
              "        b'Clinton did not mention that two Democratic senators , Charles Robb of Virginia and Wendell Ford of Kentucky , voted to shelve the McCain bill .',\n",
              "        b\"Sen. Patrick Leahy of Vermont , the committee 's senior Democrat , later said the problem is serious but called Hatch 's suggestion too drastic .\",\n",
              "        b'Other staff members , however , defended the document , saying it would still help policy-makers and the agency improve efforts to address the climate issue .',\n",
              "        b'He made a point of saying during Tuesdays debate that the Confederate flag was a racist symbol .',\n",
              "        b\"The Democratic candidates also began announcing their fund-raising totals before Wednesday 's deadline to file quarterly reports with the Federal Election Commission .\",\n",
              "        b'But MTA officials appropriated the money to the 2003 and 2004 budgets without notifying riders or even the MTA board members considering the 50-cent hike , Hevesi found .',\n",
              "        b'\" There is no conscious policy of the United States , I can assure you of this , to move the dollar at all , \" he said .',\n",
              "        b'Mr. Rowland attended a party in South Windsor for the families of Connecticut National Guard soldiers called to active duty .',\n",
              "        b\"Secretary of State Colin Powell designated the Chechen leader believed responsible for last year 's hostage standoff in a Moscow theater as a threat to U.S. security Friday .\",\n",
              "        b'Q : Can I buy coverage for prescription drugs right away ?',\n",
              "        b\"Ratliff 's daughters , Margaret and Martha Ratliff , were adopted by Peterson after their mother 's death .\",\n",
              "        b\"Michel , who remains in the government , denied that US pressure had provoked the government 's move .\",\n",
              "        b'The poll had a margin of error of plus or minus 2 percentage points .',\n",
              "        b\"He said the foodservice pie business doesn 't fit the company 's long-term growth strategy .\",\n",
              "        b'\" Jeremy \\'s a good guy , \" Barber said , adding : \" Jeremy is living the dream life of the New York athlete .',\n",
              "        b'The driver , Eugene Rogers , helped to remove children from the bus , Wood said .',\n",
              "        b'U.S. corporate bond yield spreads tightened in spotty trading on Friday as Wall Street labored to get back on its feet after the largest power outage ever in North America .',\n",
              "        b'The Phillies were upset that Counsell had stolen second in the sixth inning with Arizona leading 7-1 .',\n",
              "        b'All patients developed some or all of the symptoms of E. coli food poisoning : bloody diarrhea , vomiting , abdominal cramping and nausea .',\n",
              "        b'In the United States , heart attacks kill about 460,000 year , in Canada about 80,000 .',\n",
              "        b'The airline also said it has the option to buy 380 more airplanes , orders that would be split evenly between the two manufacturers .',\n",
              "        b'Claire had advanced to the third round of the 76th annual Scripps Howard National Spelling Bee .',\n",
              "        b'He is blocking them until the Air Force assigns four additional C-130 cargo planes to Gowen Field , an Idaho Air National Guard base in Boise .',\n",
              "        b\"Her father , Florin Cioaba , the king of Transylvania 's Gypsies , had her brought back and she was married against her will .\",\n",
              "        b'The attack followed several days of disturbances in the city where American soldiers exchanged fire with an unknown number of attackers as civilians carried out demonstrations against the American presence .',\n",
              "        b'The Calgary woman , who is in her twenties , donated blood on Aug. 7 .',\n",
              "        b\"It 's the first such drill since the September 11 terrorist attacks on New York and Washington .\",\n",
              "        b'Wittig resigned last year after being indicted on federal bank fraud charges involving a real estate loan unrelated to Westar business .',\n",
              "        b'IBM of the US and Infineon Technologies of Germany will today announce a technological development that could threaten multi-billion dollar memory chip markets .',\n",
              "        b'Lay had contended that turning over the documents would violate his Fifth Amendment right against self-incrimination .',\n",
              "        b'Corixa shares rose 54 cents to $ 7.74 yesterday on the Nasdaq Stock Market .',\n",
              "        b'Waiting crowds filling the streets on both sides overwhelmed the peacekeepers soon after daylight , sweeping past the barbed wire barricades .',\n",
              "        b'In an unusual move , the U.S. Patent and Trademark Office is reconsidering a patent affecting Internet pages that critics contend could disrupt millions of Web sites .',\n",
              "        b\"It decided instead to issue them before the stock market opened Monday after the downgrade of its debt late Friday by Moody 's , the credit rating agency .\",\n",
              "        b'About 1,500 police will be deployed for the visit .',\n",
              "        b'For the second year in a row , rises in hospital costs accounted for much of the inflation , accounting for 51 percent of the overall cost increase .',\n",
              "        b'Amazon.com shipped out more than a million copies of the new book , making Saturday the largest distribution day of a single item in e-commerce history .',\n",
              "        b\"Estonia 's place in the European mainstream and safeguard its independence regained in 1991 .\",\n",
              "        b'It does not affect the current Windows Media Player 9.0 Series .',\n",
              "        b\"Metro , bus and local rail services in France 's four largest towns -- Paris , Lyon , Lille and Marseille -- were severely disrupted , Europe 1 radio reported .\",\n",
              "        b'\" It was never our intention to sell the product , \" said Health Minister Anne McClellan , a skeptic of medical marijuana use .',\n",
              "        b'\" It \\'s a major victory for Maine , and it \\'s a major victory for other states .',\n",
              "        b'Peterson , a former fertilizer salesman , is charged with murder in the deaths of his 27-year-old wife and the baby boy she was carrying .',\n",
              "        b'The company said it would issue revised guidance for the full fiscal year next month when it releases its Q2 results .',\n",
              "        b'One of the FBI \\xe2\\x80\\x99 s key operatives , who had a falling out with the bureau , provided an account of the operation at a friend \\xe2\\x80\\x99 s closed immigration court proceeding .',\n",
              "        b'He tried to fight off officers and was taken to a hospital after a police dog bit him but was later released .',\n",
              "        b'According to the Merchant Marine Ministry , the 37-year-old ship is registered to Alpha Shipping Inc. based in the Pacific Ocean nation of Marshall Islands .',\n",
              "        b'In February 2000 , the officers \\xe2\\x80\\x94 Kenneth Boss , Sean Carroll , Edward McMellon and Richard Murphy \\xe2\\x80\\x94 were acquitted of all charges in the killing .',\n",
              "        b'Parson was charged with intentionally causing and attempting to cause damage to protected computers .',\n",
              "        b'The Guru microcontroller serves four functions : hardware monitoring , overclocking management , BIOS ( Basic Input Output System ) update and a troubleshooting-assistance feature called Black Box .',\n",
              "        b'Carlson on Tuesday said he would not recuse himself from the case .',\n",
              "        b'After the two-hour meeting on May 14 , publisher Arthur O. Sulzberger Jr . , executive editor Howell Raines and managing editor Gerald Boyd pledged quick remedies to staff grievances .',\n",
              "        b'But with the PM due to leave tomorrow afternoon for personal reasons there was a risk he might not be present when the final decision was made .',\n",
              "        b'In a statement , Lee said he \" no longer believes that Viacom deliberately intended to trade on my name when naming Spike TV . \"',\n",
              "        b\"Christina 's aunt , Shelley Riling , said the defense 's claims were preposterous .\",\n",
              "        b'The men were remanded in custody and are due to appear again before court on July 8 .',\n",
              "        b'Intel was disappointed and assessing its \" options in the event Mr. Hamidi resumes his spamming activity against Intel , \" spokesman Chuck Mulloy said .',\n",
              "        b'\" This deal makes sense for both companies , \" said National Chief Executive Brian Halla .',\n",
              "        b'The 3 rd Armored Cavalry Regiment is 5,200 strong and the largest combat unit at Fort Carson .',\n",
              "        b'Quattrone lawyer John W. Keker said his client is innocent .',\n",
              "        b'The Justice Department Aug. 19 gave pre-clearance for the Oct. 7 date for the election to recall Gov. Gray Davis , saying it would not affect minority voting rights .',\n",
              "        b\"The state 's House delegation currently consists of 17 Democrats and 15 Republicans .\",\n",
              "        b'\" APEC leaders are painfully aware that security and prosperity are inseparable , \" Thai Prime Minister Thaksin Shinawatra told business leaders .',\n",
              "        b'The New York Democrat and former first lady has said she will not run for the White House in 2004 , but has not ruled out a race in later years .',\n",
              "        b'The announcement , which economists said was not a surprise , may be bittersweet for the millions of Americans without jobs .',\n",
              "        b'\" We think that the United States of America should support the free speech of all groups , \" Mr. White said , objecting to Mr. Olson \\'s recommendation .',\n",
              "        b'The Centers for Medicare and Medicaid Services , the federal agency that runs Medicare , last year began a similar effort for nursing homes .',\n",
              "        b'The steel tariffs , which the U.S. president imposed in March 2002 , will officially end at midnight , instead of March 2005 as initially planned .',\n",
              "        b'The Denver-based natural gas producer and marketer said the inaccurate reporting was discovered after it received a subpoena from the U.S. Commodity Futures Trading Commission .',\n",
              "        b\"Zulifquar Ali , a worshipper slightly wounded by shrapnel , said the assailants first targeted the mosque 's security guards .\",\n",
              "        b'Trans fat makes up only 1 percent to 3 percent of the total fat Americans consume , compared with 14 percent for saturated fat .',\n",
              "        b'But Virgin wants to operate Concorde on routes to New York , Barbados and Dubai .',\n",
              "        b'In three years , Lend Lease has slipped from a top-five stock , when its share price was around $ 24 , to 37th .',\n",
              "        b'The blasts killed two people and injured more than 150 others .',\n",
              "        b\"Barry Callebaut will be able to use Brach 's retail network to sell products made from its German subsidiary Stollwerck , which makes chocolate products not sold in the United States .\",\n",
              "        b'\" There is no need for one deadline for all to create the ASEAN Economic Community , \" Thaksin said .',\n",
              "        b\"Dealers said the dollar also drew some downside support as Japanese investors are expected to keep snapping up foreign bonds amid the yen 's rise against the dollar .\",\n",
              "        b\"Detectives told Deasean 's father , Stelly Chisolm , a college student , and mother , Kimberly Hill , of the arrest shortly after Perry was apprehended .\",\n",
              "        b\"ONG KONG , July 9 Tens of thousands of demonstrators gathered tonight before the legislature building here to call for free elections and the resignation of Hong Kong 's leader .\",\n",
              "        b'Thyroid hormones are known to help in weight loss by stimulating metabolism - and cutting cholesterol - but come with the unwanted side effect of speeding up the heartbeat .',\n",
              "        b'Xerox itself paid a $ 10 million fine last year to settle similar SEC charges .',\n",
              "        b\"Chirac , who can pardon a law-breaker , refused Humbert 's request last year but kept in close touch with the family .\",\n",
              "        b'Ernst & Young has denied any wrongdoing and plans to fight the allegations .',\n",
              "        b'The Midwestern research center will focus on the development of diagnostic , therapeutic and vaccine products for anthrax , botulism , tularemia , hemorrhagic fever viruses and plague .',\n",
              "        b'\" So Sebastian did his best to convincingly confess to a crime that he didn \\'t commit in order to survive , \" she told jurors .',\n",
              "        b'\" This decision is clearly incorrect , \" FTC Chairman Timothy Muris said in a written statement .',\n",
              "        b'\" The government elements who have been causing trouble are still in place .',\n",
              "        b'\" Instead of pursuing the most imminent and real threats \\xe2\\x80\\x93 international terrorism \\xe2\\x80\\x93 this Bush administration chose to settle old scores , \" Mr. Graham said .',\n",
              "        b'Later this year , the command will send trainers with soldiers from four North African nations on patrolling and intelligence gathering missions .',\n",
              "        b\"Ex-KGB agent Putin added that the Beatles were considered ' propaganda of an alien ideology ' .\",\n",
              "        b\"Wal-Mart , the nation 's largest private employer , has expanded its antidiscrimination policy to protect gay and lesbian employees , company officials said Tuesday .\",\n",
              "        b'North American markets grabbed early gains Monday morning , as earnings season begins to slow and economic indicators take the spotlight .',\n",
              "        b'The disagreement over online music sales was disclosed in documents filed last week with the judge and made available by the court yesterday .',\n",
              "        b\"Speaking for the first time yesterday , Brigitte 's maternal aunt said his family was unaware he had was in prison or that he had remarried .\",\n",
              "        b'A landslide in central Chungchong province derailed a Seoul-bound train and 28 passengers were injured , television said .',\n",
              "        b'Some of the computers also are used to send spam e-mail messages to drum up traffic to the sites .',\n",
              "        b\"The broader Standard & Poor 's 500 Index .SPX edged down 9 points , or 0.98 percent , to 921 .\",\n",
              "        b'Bush wanted \" to see an aircraft landing the same way that the pilots saw an aircraft landing , \" White House press secretary Ari Fleischer said yesterday .',\n",
              "        b'Prosecutors allege that Nichols and co-conspirator Timothy McVeigh worked together to prepare a bomb that destroyed the Alfred P. Murrah Federal Building .',\n",
              "        b'They note that after several weeks of rallies on upbeat earnings , investors are looking for stronger evidence of a recovery before sending stocks higher .',\n",
              "        b\"SPOT products run a Microsoft operating system and the company 's DirectBand radio technology developed with SCA Data Systems .\",\n",
              "        b'Rumsfeld , who has been feuding for two years with Army leadership , passed over nine active-duty four-star generals .',\n",
              "        b'The reports helped overcome investor jitters after the euro briefly hit an all-time high against the dollar Tuesday .',\n",
              "        b'Sources who knew of the bidding said last week that cable TV company Comcast Corp. was also looking at VUE .',\n",
              "        b\"King , brand-name writer , master of the horror story and e-book pioneer , is receiving this year 's medal for Distinguished Contributions to American Letters .\",\n",
              "        b'Mr Annan also warned the US should not use the war on terror as an excuse to suppress \" long-cherished freedoms \" .',\n",
              "        b'Nearly 300 mutinous troops who seized a Manila shopping and apartment complex demanding the government resign gave up and retreated peacefully after some 19 hours .',\n",
              "        b'White , who had suffered kidney failure from years of high blood pressure , died at Cedars-Sinai Medical Center around 9 : 30 a.m. , said manager Ned Shankman .',\n",
              "        b'Police say CIBA was involved in the importation of qat , a narcotic substance legal in Britain but banned in the United States .',\n",
              "        b\"November 17 's last victim was British defence attache Stephen Saunders , who was shot on an Athens road in June 2000 .\",\n",
              "        b'\" It is bad for Symbian , \" said Per Lindberg , analyst at Dresdner Kleinwort Wasserstein .',\n",
              "        b'They were being held Sunday in the Camden County Jail on $ 100,000 bail .',\n",
              "        b'Lord Falconer hailed the changes as \" a new beginning as far as the courts , Crown Prosecution Service and police are concerned \" .',\n",
              "        b\"Kelly killed himself after being exposed as the source for a BBC report which claimed the government had embellished evidence of Iraq 's banned weapons to justify the war .\",\n",
              "        b'McCabe said he was considered a witness , not a suspect .',\n",
              "        b'In the undergraduate case , Rehnquist said the use of race was not \" narrowly tailored \" to achieve the university \\'s asserted interest in diversity .',\n",
              "        b'The U.S. Supreme Court will hear arguments on Wednesday on whether companies can be sued under the Americans with Disabilities Act for refusing to rehire rehabilitated drug users .',\n",
              "        b'He called on Prime Minister John Howard to establish a royal commission on child sex abuse .',\n",
              "        b'The 12-nation currency has risen by 33 percent against the dollar over the past 15 months .',\n",
              "        b\"Mr. Young said he was disappointed that the government didn 't see the severe acute respiratory syndrome crisis as worthy of federal disaster-relief money .\",\n",
              "        b'He was arrested Friday night at an Alpharetta seafood restaurant while dining with his wife , singer Whitney Houston .',\n",
              "        b'Environmental campaigners are using this weekend \\xe2\\x80\\x99 s lunar eclipse to highlight the huge increase in light pollution across the UK .',\n",
              "        b'In fiction : Edward P. Jones ( \" The Known World \" ) and Scott Spencer ( \" A Ship Made of Paper \" ) .',\n",
              "        b'Most economists had expected a more dire report , with many anticipating the fifth month of job losses in six months .',\n",
              "        b'No dates have been set for the civil or the criminal trial .',\n",
              "        b'\" Allison just proves you don \\'t need to wait until August or September to have a disaster , \" said Josh Lichter , a meteorologist with the Houston-Galveston weather office .',\n",
              "        b'The mother of a Briton held by Colombian guerrillasspoke of her relief yesterday after hearing that he might be freed in the next few weeks .',\n",
              "        b'But I would rather be talking about high standards than low standards . \"',\n",
              "        b\"We 'll be listening carefully to the [ IAEA ] director general 's report at the next board meeting .\",\n",
              "        b'Shattered Glass , \" starring Hayden Christensen as Stephen Glass , debuted well with $ 80,000 in eight theaters .',\n",
              "        b'Danbury prosecutor Warren Murray could not be reached for comment Monday .',\n",
              "        b'\" This child was literally neglected to death , \" Armstrong County District Attorney Scott Andreassi said .',\n",
              "        b\"During this year 's August to October quarter , Lowe 's opened 38 new stores , including two relocations .\",\n",
              "        b'The decision to issue new guidance has been prompted by intelligence passed to Britain by the FBI in a secret briefing in late July .',\n",
              "        b\"Indonesia 's army has often been accused of human rights abuses during GAM 's battle for independence , charges it has generally denied while accusing the separatists of committing rights violations .\",\n",
              "        b'But software license revenues , a measure financial analysts watch closely , decreased 21 percent to $ 107.6 million .',\n",
              "        b'That is evident from their failure , three times in a row , to get a big enough turnout to elect a president .',\n",
              "        b'In the year-ago quarter , the steelmaker recorded a profit of $ 16.2 million , or 15 cents per share , on sales of $ 1.14 billion .',\n",
              "        b'Terri Schiavo , 39 , is expected to die sometime in the next two weeks in the Tampa-area hospice where she has spent the past several years .',\n",
              "        b'Judge Craig Doran said it wasn \\'t his role to determine if Hovan was \" an evil man \" but maintained that \" he has committed an evil act . \"',\n",
              "        b'SARS has killed about 800 people and affected more than 8400 since being detected in China in November .',\n",
              "        b'In May , Mr. Hatfill said he was struck by a vehicle being driven by an FBI employee who was tailing him in Georgetown .',\n",
              "        b'Franklin County Judge-Executive Teresa Barton said a firefighter was struck by lightning and was taken to the Frankfort Regional Medical Center .',\n",
              "        b'A man arrested for allegedly threatening to shoot and kill a city councilman from Queens was ordered held on $ 100,000 bail during an early morning court appearance Saturday .',\n",
              "        b\"Robert Walsh , 40 , remained in critical but stable condition Friday at Staten Island University Hospital 's north campus .\",\n",
              "        b'Cortisol levels in the saliva of day care children were highest and rose most steeply in those judged by day care center personnel to be the shyest .',\n",
              "        b'Committee approval , expected today , would set the stage for debate on the Senate floor beginning Monday .',\n",
              "        b\"Costa 's semifinal opponent is Spaniard Juan Carlos Ferrero , whom he beat in last year 's final .\",\n",
              "        b'He replaces Ron Dittemore , who announced his resignation in April .',\n",
              "        b'In hardest-hit Taipei , traffic has disappeared from once bustling streets , ubiquitous department stores stand mostly empty and restaurants are eerily quiet .',\n",
              "        b\"Federal regulators have turned from sour to sweet on a proposed $ 2.8 billion merger of ice cream giants Nestle Holdings Inc. and Dreyer 's Grand Ice Cream Inc .\",\n",
              "        b'\" We are committed to helping the Iraqi people get on the path to a free society , \" Rumsfeld said in a speech to the Council on Foreign Relations .',\n",
              "        b'United issued a statement saying it will \" work professionally and cooperatively with all its unions . \"',\n",
              "        b'The AFL-CIO is waiting until October to decide if it will endorse a candidate .',\n",
              "        b'Friday , Stanford ( 47-15 ) blanked the Gamecocks 8-0 .',\n",
              "        b'While the Ibrahims had one separation operation , Goodrich and Dr. David Staffenberg plan about three for the Aguirres , with several weeks between each .',\n",
              "        b'\" More than 70,000 men and women from bases in Southern California were deployed in Iraq .',\n",
              "        b'The hearing is to determine whether there is enough evidence to order Akbar to a general court-martial proceeding .',\n",
              "        b'This integrates with Rational PurifyPlus and allows developers to work in supported versions of Java , Visual C # and Visual Basic .NET.',\n",
              "        b'The opposition would resort to rolling mass action \" at strategic times of our choice and without warning to the dictatorship , \" he said .',\n",
              "        b\"Sony claimed that the reader 's capacitance sensing technology cannot be fooled by paper copies and does not require cleaning .\",\n",
              "        b\"The broader Standard & Poor 's 500 Index .SPX gave up 11.91 points , or 1.19 percent , at 986.60 .\",\n",
              "        b'The association said 28.2 million DVDs were rented in the week that ended June 15 , compared with 27.3 million VHS cassettes .',\n",
              "        b'After losing as much as 84.56 earlier , the Dow Jones industrial average closed up 22.81 , or 0.2 percent , at 9,340.45 .',\n",
              "        b'Another $ 100-million in savings will come from management layoffs and pay cuts .',\n",
              "        b'BREAST cancer cases in the UK have hit an all-time high with more than 40,000 women diagnosed with the disease each year , Cancer Re-search UK revealed yesterday .',\n",
              "        b'\" Instead of pursuing the most imminent and real threats - international terrorists , \" Graham said , \" this Bush administration chose to settle old scores . \"',\n",
              "        b'Massachusetts regulators and the Securities and Exchange Commission on Tuesday pressed securities fraud charges against Putnam Investments and two of its former portfolio managers for alleged improper mutual fund trading .',\n",
              "        b\"Thus far , Stewart 's company appears ready to stand behind her .\",\n",
              "        b'A European Union spokesman said the Commission was consulting EU member states \" with a view to taking appropriate action if necessary \" on the matter .',\n",
              "        b'The technology-laced Nasdaq Composite Index < .IXIC > declined 25.78 points , or 1.56 percent , to 1,627.84 .',\n",
              "        b'Chad Kolton , emergency management spokesman with the Department of Homeland Security , said the government is open to new technologies and methods to communicate more quickly and efficiently .',\n",
              "        b'Today , analysts say , UN members can no longer ignore the shifts since the September 11 2001 attacks .',\n",
              "        b'The woman was exposed to the SARS virus while in the hospital but was not a health care worker , said Dr. Colin D \\xe2\\x80\\x99 Cunha , Ontario \\xe2\\x80\\x99 s commissioner of public health .',\n",
              "        b'Magnarelli said Racicot hated the Iraqi regime and looked forward to using his long years of training in the war .',\n",
              "        b\"HP 's shipments increased 48 percent year-over-year , compared to an increase of 31 percent for Dell .\",\n",
              "        b'Kansas Department of Health and Environment records show there were 88 abortions performed on girls age 14 and younger last year .',\n",
              "        b'Mr Russell , 46 , a coal miner from Brisbane , said : \" They are obviously hurting , so we are basically going over there to help them . \"',\n",
              "        b'The S & P / TSX composite rose 87.74 points on the week , while the TSX Venture Exchange composite gained 44.49 points .',\n",
              "        b'Three such vigilante-style attacks forced the hacker organizer , who identified himself only as \" Eleonora [ 67 ] , \" to extend the contest until 7 p.m. EST Sunday .',\n",
              "        b\"Citigroup Inc . C.N , the world 's largest financial services company , on Wednesday promoted Marjorie Magner to chairman and chief executive of its global consumer group .\",\n",
              "        b'But plaque volume increased by 2.7 percent in pravastatin patients .',\n",
              "        b'Federal Agriculture Minister Warren Truss said the Government still did not know the real reason the sheep were rejected at the Saudi port of Jeddah on August 21 .',\n",
              "        b'Per-user pricing is $ 29 for Workplace Messaging , $ 89 for Team Collaboration and $ 35 for Collaborative Learning .',\n",
              "        b\"After 18 months , Nissen found that Lipitor stopped plaque buildup in the patients ' arteries .\",\n",
              "        b'Based on a separate survey of households , the unemployment rate fell in August to 6.1 percent from 6.2 percent .',\n",
              "        b\"Today in the US , the book - kept under wraps by its publishers , G. P. Putnam 's Sons , since its inception - will appear in bookstores .\",\n",
              "        b'\" Close co-operation between our law enforcement agencies , close co-operation between our intelligence services lie at the heart of the ongoing fight against terrorism . \"',\n",
              "        b'Twenty percent of Latino students and 23 percent of black students performed at proficient or higher .',\n",
              "        b'Columbia broke up over Texas upon re-entry on Feb. 1 .',\n",
              "        b\"It 's happened five times in the last 11 years : A disaster puts this Southwestern town in the headlines during the summer tourist season .\",\n",
              "        b\"Some of the company 's software developers will join Microsoft , but details haven 't been finalized , said Mike Nash , corporate vice president of Microsoft 's security business unit .\",\n",
              "        b'Gov. Bob Riley proposed the budget cuts after Alabama voters rejected his $ 1.2 billion tax plan Sept . 9 .',\n",
              "        b\"Ross Garber , Rowland 's lawyer , said Tuesday he would attend the meeting and would ask to speak on the issue .\",\n",
              "        b'The only announced Republican to replace Davis is Rep. Darrell Issa of Vista , who has spent $ 1.71 million of his own money to force a recall .',\n",
              "        b'Let me just say this : the evidence that we have of weapons of mass destruction was evidence drawn up and accepted by the joint intelligence community .',\n",
              "        b\"The European Commission , the EU 's antitrust enforcer , is expected to issue its decision next spring \\xe2\\x80\\x94 unless a settlement is reached .\",\n",
              "        b'The IRS said taxpayers can avoid undelivered checks by having refunds deposited directly into their checking or savings accounts .',\n",
              "        b'Wal-Mart said it would check all of its million-plus domestic workers to ensure they were legally employed .',\n",
              "        b\"On Monday the Palestinian Prime Minister , Mahmoud Abbas , will report to the Palestinian parliament on his Government 's achievements in its first 100 days in office .\",\n",
              "        b'Tom Kraynak , manager of operations and resources for the Canton , Ohio-based East Central Area Reliability Council , said that scenario is one among many that investigators are considering .',\n",
              "        b\"Chiron already has nearly 20 percent acceptances from PowderJect 's shareholders .\",\n",
              "        b'The Dow Jones industrial average .DJI ended up 64.64 points , or 0.71 percent , at 9,191.09 , according to the latest available data .',\n",
              "        b\"After more than two years ' detention under the State Security Bureau , the four were found guilty of subversion in Beijing 's No. 1 Intermediate Court last Wednesday .\",\n",
              "        b\"On Saturday , a 149mph serve against Agassi equalled Rusedski 's world record .\",\n",
              "        b'The agency charged that one WD Energy worker discussed false reporting with traders at two other energy companies .',\n",
              "        b'Rosenthal is hereby sentenced to custody of the Federal Bureau of prisons for one day with credit for time served , \" Breyer said to tumultuous cheers in the courtroom .',\n",
              "        b'Broomhead was assigned to 2nd Squadron , 3rd Armor Cavalry Regiment , based at Fort Carson .',\n",
              "        b'Cindy Yeast , a 50-year-old Washington-area publicist , says she began taking supplements two years ago in part to avoid mild dementia that affects her elderly parents .',\n",
              "        b'GE stock closed at $ 30.65 a share , down about 42 cents , on the New York Stock Exchange .',\n",
              "        b'The chain operates more than 3,400 stores , and has annual revenue of about $ 15.8 billion .',\n",
              "        b'However , EPA officials would not confirm the 20 percent figure .',\n",
              "        b'BP shares slipped 0.8 percent to 433.50 pence ( $ 6.85 ) each in afternoon trading on the London Stock Exchange .',\n",
              "        b\"Nelson , 27 , is being retried on civil-rights charges stemming from the disturbance which led to Rosenbaum 's death .\",\n",
              "        b'Vivace was founded in 1999 and has raised over $ 118 million in three rounds of venture financing .',\n",
              "        b\"We strongly disagree with Novell 's position and view it as a desperate measure to curry favor with the Linux community .\",\n",
              "        b'Garner said the group would probably be expanded to include , for example , a Christian and perhaps another Sunni leader .',\n",
              "        b'We acted because we saw the existing evidence in a new light , through the prism of our experience on 11 September , \" Rumsfeld said .',\n",
              "        b'\" I think it happened very quickly , \" Houston Police Department homicide investigator Phil Yochum said of the crime .',\n",
              "        b'My decision today is not based on any one event . \"',\n",
              "        b'The dollar was at 116.92 yen against the yen , flat on the session , and at 1.2891 against the Swiss franc , also flat .',\n",
              "        b'\" I had one bad stretch of holes that put me out of contention to win , \" Woods said .',\n",
              "        b\"Toll , Australia 's second-largest transport company , last week offered NZ75 a share for Tranz Rail .\",\n",
              "        b'The two are not related , but have referred to each other as father and son .',\n",
              "        b\"Altria shares fell 2.5 percent or $ 1.11 to $ 42.57 and were the Dow 's biggest percentage loser .\",\n",
              "        b'In the weeks leading up to the execution , several Florida officials received anonymous threatening letters .',\n",
              "        b'\" Today , we are trying to convey this problem to Russian President Vladimir Putin and US President George W Bush . \"',\n",
              "        b'Wal-Mart has said it plans to open at least 40 Supercenters in the state in the coming years ; analysts expect four or more to be in San Diego County .',\n",
              "        b'Lu reclined in a soft chair wearing a woolly coat near the blackened capsule .',\n",
              "        b'Unable to find a home for him , a judge told mental health authorities they needed to find supervised housing and treatment for DeVries somewhere in California .',\n",
              "        b'The additional contribution brings total U.S. food aid to North Korea this year to 100,000 tonnes .',\n",
              "        b'Second-quarter results reflected a gain of 10 cents per diluted share , while the 2002 results included a loss of 19 cents per diluted share .',\n",
              "        b\"The United States finally relented during President Bush 's visit to Africa earlier this month .\",\n",
              "        b\"Mr. Clinton 's national security adviser , Sandy Berger , said that the White House wasn 't informed of the FBI activities .\",\n",
              "        b\"O 'Brien was charged with leaving the scene of a fatal accident , a felony .\",\n",
              "        b'One , Capt. Doug McDonald , remained hospitalized in critical condition on Thursday .',\n",
              "        b'The U.N. troops are in Congo to protect U.N. installations and personnel , and they can only fire in self defense and have been unable to stem the violence .',\n",
              "        b\"The WHO experts didn 't say how many cases in Hebei were in rural areas .\",\n",
              "        b\"However , a recent slide in prices and OPEC 's expectations of a surge in oil inventories have compounded its fears about a further softening of the market .\",\n",
              "        b'In the clash with police , Lt. Mothana Ali said about 1,000 demonstrators had gone to the station demanding jobs .',\n",
              "        b'He said they lied on a sworn affidavit that requires them to list prior marriages .',\n",
              "        b'Freddie also said Leland C. Brendsel will retire as chairman and chief executive and resign from the board .',\n",
              "        b\"He said he has begun a court action to seize Beacon Hill 's assets and has frozen more than $ 13 million Beacon Hill had when it closed .\",\n",
              "        b'\" I stand 100 percent by it , and I think our intelligence services gave us the correct information at the time . \"',\n",
              "        b'In that position , Elias will report to Joe Tucci , president and CEO of EMC .',\n",
              "        b\"The broad Standard & Poor 's 500 < .SPX > eased 0.37 of a point , or 0.03 percent , at 1,121 .\",\n",
              "        b'Watertown , Saugus and Framingham also are going smoke-free Monday , joining a growing number of cities around the country .',\n",
              "        b\"GM , the world 's largest automaker , has 115,000 active UAW workers and another 340,000 retirees and spouses .\",\n",
              "        b'At community colleges , tuition will jump to $ 2,800 from $ 2,500 .',\n",
              "        b\"Wal-Mart Stores Inc . , Kohl 's Corp. , Family Dollar Stores Inc. and Big Lots Inc. were among the merchants posting May sales that fell below Wall Street 's modest expectations .\",\n",
              "        b'Cooley said he expects Muhammad will similarly be called as a witness at a pretrial hearing for Malvo .',\n",
              "        b'Tom Hamilton said his daughter was conscious and alert and in stable condition after the attack Friday morning .',\n",
              "        b'Cintas is battling efforts to unionize 17,000 of its workers and to let unions organize the workers by signing cards , rather than by a lengthy election process .',\n",
              "        b\"President Bush raised a record-breaking $ 49.5 million for his re-election campaign over the last three months , with contributions from 262,000 Americans , the president 's campaign chairman said Tuesday .\",\n",
              "        b\"The world 's largest software company said it recognized the difficulty the multiple patches posed for companies , and set out to make it easier for them to apply the updates .\",\n",
              "        b'Ridge said no actual explosives or other harmful substances will be used .',\n",
              "        b'The pound also made progress against the dollar , reached fresh three-year highs at $ 1.6789 .',\n",
              "        b'He added that those \" are not solely American principles , nor are they exclusively Western . \"',\n",
              "        b'\" The risk of inflation becoming undesirably low remains the predominant concern for the foreseeable future , \" the Fed said in a statement accompanying the unanimous decision .',\n",
              "        b'On the stand Wednesday , she said she was referring only to the kissing .',\n",
              "        b\"Myanmar 's pro-democracy leader Aung San Suu Kyi will return home late Friday but will remain in detention after recovering from surgery at a Yangon hospital , her personal physician said .\",\n",
              "        b'He is charged in three bombings in Atlanta including a blast at the 1996 Olympics and one in Alabama .',\n",
              "        b\"However , Lapidus expects foreign brands ' sales to be up 4 percent , driven by strong truck sales at Honda Motor Co .\",\n",
              "        b'News that oil producers were lowering their output starting in November exacerbated a sell-off that was already under way on Wall Street .',\n",
              "        b'An episode is declared when the ozone reaches .20 parts per million parts of air for one hour .',\n",
              "        b'Morgan Stanley raised its rating on the beverage maker to \" overweight \" from \" equal-weight \" saying in part that pricing power with its bottlers should improve in 2004 .',\n",
              "        b'The hearing , expected to last a week , will determine whether Akbar faces a court-martial .',\n",
              "        b'Sales for the quarter beat expectations , rising 37 percent year-on-year to 1.76 billion euros .',\n",
              "        b'Hester said Sanmina was the best fit among several purchase offers the company received from electronics manufacturers and computer makers .',\n",
              "        b'The delegates said raising and distributing funds has been complicated by the U.S. crackdown on jihadi charitable foundations , bank accounts of terror-related organizations and money transfers .',\n",
              "        b\"At least 27 US troops have been killed in hostile fire since Bush 's statement .\",\n",
              "        b'He has no immediate plans for television advertising , believing it is unnecessary this early .',\n",
              "        b'The program will grow to include ports in Dubai , Turkey and Malaysia , among others .',\n",
              "        b'By skirting the FDA \\'s oversight , Eagan said , the quality of the imported drugs is \" less predictable \" than for those obtained in the United States .',\n",
              "        b'Shares of Salix have rocketed 64 percent since Axcan made its first offer on April 10 .',\n",
              "        b'Worldwide , more than 50 million people have seen \" Les Miz , \" with gross receipts of $ 1.8 billion .',\n",
              "        b'\" Sanitation is poor ... there could be typhoid and cholera , \" he said .',\n",
              "        b'About 10 percent of high school and 16 percent of elementary students must be proficient at math .',\n",
              "        b'Consumers who said jobs are difficult to find jumped from 29.4 to 32.6 , while those claiming work was plentiful slipped from 13 to 12.6 .',\n",
              "        b\"But Chauncey Billups demonstrated he 's also capable of big games , scoring 77 points over the final two games against the Magic .\",\n",
              "        b'The Lord Chancellor was guardian of the Great Seal , used to stamp all official documents from the sovereign .',\n",
              "        b'We firmly believe we have an absolute right to use the common word \\' spike \\' as the name of our network . \"',\n",
              "        b'But Ms Ward said the headroom under its financial covenants was \" tight \" and that there could be another downgrade if Southcorp breached any of its banking covenants .',\n",
              "        b'Taiwan had been relatively free of the viral infection until a fiasco at a Taipei hospital in late April caused the number of infections to skyrocket .',\n",
              "        b'It will be followed in November by a third movie , \" The Matrix Revolutions . \"',\n",
              "        b\"The company emphasized that McDonald 's USA does not import any raw beef or hamburger patties from Canada for McDonald 's use in the United States .\",\n",
              "        b'And it \\'s going to be a wild ride , \" said Allan Hoffenblum , a Republican consultant .',\n",
              "        b'They were among about 40 people attending the traditional Jewish ceremony colored by some non-traditional touches .',\n",
              "        b'They will help draft a plan to attack obesity that Kraft will implement over three to four years .',\n",
              "        b'Iran has until the end of the month to satisfy the agency it has no plans for nuclear weapons .',\n",
              "        b\"Leon Williams ' body was found inside his third-floor apartment at 196 Bay St. , in Tompkinsville .\",\n",
              "        b'It was not immediately known how many people were on flight UTA 141 , which could carry 141 passengers and crew .',\n",
              "        b'Cisco pared spending to compensate for sluggish sales .',\n",
              "        b'Spansion products are to be available from both AMD and Fujitsu , AMD said .',\n",
              "        b'Ninety-five percent of international cargo to the United States is carried by ship .',\n",
              "        b'The seizure took place at 4 a.m. on March 18 , just hours before the first American air assault .',\n",
              "        b'Last month Intel raised its revenue guidance for the quarter to between $ 7.6 billion and $ 7.8 billion .',\n",
              "        b'Justice Minister Martin Cauchon and Prime Minister Jean Chr\\xc3\\xa9tien have both said the Liberal government will introduce legislation soon to decriminalize possession of small amounts of pot for personal use .',\n",
              "        b\"PeopleSoft also said its board had officially rejected Oracle 's offer .\",\n",
              "        b'\" I think it \\'s going to be a close vote , but I think the grant proposal is going to win , \" McConnell said .',\n",
              "        b'The euro was at 1.5281 versus the Swiss franc EURCHF = , up 0.2 percent on the session , after hitting its highest since mid-2001 around 1.5292 earlier in the session .',\n",
              "        b'Eric Gagne pitched a perfect ninth for his 23rd save in as many opportunities .',\n",
              "        b'Donations stemming from the Sept . 11 attacks helped push up contributions to human service organizations and large branches of the United Way by 15 percent and 28.6 percent , respectively .',\n",
              "        b'Officials are also meeting with the International Organization for Epizootics ( OIE ) , which establishes animal-health standards for the world .',\n",
              "        b'\" He may not have been there , \" the defence official said on Thursday .',\n",
              "        b'Sun Microsystems Inc. on Thursday said it had added 100 new third-party systems and 100 new components to its Hardware Compatibility List for the Solaris x86 operating system Platform Edition .',\n",
              "        b'\" We will work with the board to ensure a smooth transition . \"',\n",
              "        b'The Neighbours star and singer spent yesterday resting at her family home in Sydney and will have more tests today .',\n",
              "        b\"There 's also a flaw that results because IE does not implement an appropriate block on a file download dialog box .\",\n",
              "        b\"Saddam loyalists have been blamed for sabotaging the nation 's infrastructure , as well as frequent attacks on U.S. soldiers .\",\n",
              "        b\"Prosecutors said PW Marketing violated the state 's 1998 anti-spam law by sending unsolicited e-mail without a toll-free number for recipients to call to stop additional mailings .\",\n",
              "        b'Gibson said last month in a press statement that \" neither I nor my film are anti-Semitic .',\n",
              "        b'No company employee has received an individual target letter at this time .',\n",
              "        b'Chief financial officer Andy Bryant has said that hike had a greater affect volume than officials expected .',\n",
              "        b'While dioxin levels in the environment were up last year , they have dropped by 75 percent since the 1970s , said Caswell .',\n",
              "        b\"Friday 's report raised new worries that a weak job market could shackle the budding economic recovery despite a slight improvement in the overall unemployment rate .\",\n",
              "        b'Asked if the delegates could leave on Friday , police intelligence chief in Aceh , Surya Dharma , told reporters they could not because they did not have proper permission .',\n",
              "        b'The patch also fixes a vulnerability that results because IE does not implement an appropriate block on a file download dialog box .',\n",
              "        b'\" If we don \\'t march into Tehran , I think we will be in pretty good shape , \" he said .',\n",
              "        b'The premium edition adds OfficeFront Page 2003 , Acceleration Server 2000 , and SQL Server 2000 .',\n",
              "        b\"It 's been a busy couple of days for security gurus assigned to keep their companies safe and sound .\",\n",
              "        b\"As Samudra sat down to hear the indictment , he looked over to his nine lawyers and shouted ``God is Great ' ' three times .\",\n",
              "        b'A former employee of a local power company pleaded guilty Wednesday to setting off a bomb that knocked out a power substation during the Winter Olympics last year .',\n",
              "        b'Available July 7 , the software supports the Solaris , IBM AIX , Red Hat Linux and Windows operating systems .',\n",
              "        b'Drax faced a financial crisis late last year after it lost its most lucrative sales contract , held with insolvent utility TXU Europe .',\n",
              "        b'\" The court and the public need to know much more of the details of the defendant \\'s seemingly massive fraud , \" the judge said .',\n",
              "        b'\" I don \\'t know if the person I \\'m talking to now may end up being someone else at another time that may not follow the rules , \" Parrish said .',\n",
              "        b'GE stock closed Friday at $ 30.65 a share , down about 42 cents , on the New York Stock Exchange .',\n",
              "        b'He said : \" For the first time there is an easy and affordable way of making this treasure trove of BBC content available to all . \"',\n",
              "        b'A recent poll showed Edwards with a narrow lead in South Carolina , and he plans a rally there later on Tuesday .',\n",
              "        b'Large swells and dangerous surf already were being felt along sections of the coast .',\n",
              "        b'Ms Stewart , the chief executive , was not expected to attend .',\n",
              "        b'Singapore Prime Minister Goh Chok Tong says China plays an important role in the integration of Asia , including managing the stresses and strains both within and between countries .',\n",
              "        b\"That would be a potential setback to Chief Executive Phil Condit 's strategy of bolstering defense-related sales during a slump in jetliner deliveries .\",\n",
              "        b'With these assets , Funny Cide has a solid chance to become the first Triple Crown winner since Affirmed in 1978 .',\n",
              "        b'But that amount would probably be impossible to pass in the Senate , where Republican moderates have refused to go above $ 350 billion .',\n",
              "        b\"He added : ``I 've never heard of more reprehensiblebehaviour by a doctor .\",\n",
              "        b'The Dow Jones industrial average < .DJI > added 28 points , or 0.27 percent , at 10,557 , hitting its highest level in 21 months .',\n",
              "        b\"Gamarekian told The News she remembers only the woman 's first name - and refused to reveal it .\",\n",
              "        b'\" But they never climb out of the pot of beer again . \"',\n",
              "        b'SP2 is basically about security enhancements to Windows , such as the improved Internet Connection Firewall ( ICF ) .',\n",
              "        b'In midafternoon trading , the Nasdaq composite index was up 8.34 , or 0.5 percent , to 1,790.47 .',\n",
              "        b'\" They \\'ve been in the stores for over six weeks , \" says Carney .',\n",
              "        b'\" No matter who becomes the sponsor for stock-car racing \\'s top series , NASCAR will need an all-star event , \" Wheeler said in a statement .',\n",
              "        b'He allegedly told his ex-wife in an angry phone call that he had no intention of following their new custody agreement .',\n",
              "        b'The civilian unemployment rate improved marginally last month -- slipping to 6.1 percent -- even as companies slashed payrolls by 93,000 .',\n",
              "        b'\" The idea that Tony Abbott is in some way a one-dimensional political head-kicker couldn \\'t be more wrong , \" Mr Howard said .',\n",
              "        b'The first products are likely to be dongles costing between US $ 100 and US $ 150 that will establish connections between consumer electronics devices and PCs .',\n",
              "        b\"Charles O. Prince , 53 , was named as Mr. Weill 's successor .\",\n",
              "        b'I was surprised it turned out me talking and the president just listening .',\n",
              "        b'Next Monday at about 2 p.m. ( CST ) , hospital officials in and near Chicago will notice a sudden increase in people complaining of flu-like symptoms .',\n",
              "        b\"The decision came a year after Whipple ended federal oversight of the district 's racial balance , facilities , budget , and busing .\",\n",
              "        b'In the 2002 study , the margin of error ranged from 1.8 to 4.4 percentage points .',\n",
              "        b'A pro-independence radical , Miodrag Zivkovic , of the Liberal Alliance , came in second with 31 percent of the vote .',\n",
              "        b'Bush also hoped to polish his anti-AIDS credentials in Uganda , which has been hailed as an African pioneer in fighting the killer disease .',\n",
              "        b'The charges allege that he was part of the conspiracy to kill and kidnap persons in a foreign country .',\n",
              "        b'Because of the accounting charge , the company now says it lost $ 1.04 billion , or 32 cents a share , in the quarter ended June 30 .',\n",
              "        b\"If the MTA 's appeal to a higher court is successful , the $ 2 bus and subway base fare won 't be rolled back .\",\n",
              "        b'The vote came just two days after Kurds swept City Council elections , taking the largest single block of votes on the 30-seat council .',\n",
              "        b\"Morrill 's wife , Ellie , sobbed and hugged Bondeson 's sister-in-law during the service .\",\n",
              "        b\"The market remains pinned in a narrow range after a powerful rally drove the broad Standard & Poor 's 500 index .SPX up more than 20 percent since mid-March .\",\n",
              "        b\"Business Week 's online edition reported on Friday that WorldCom and the SEC could announce a settlement as early as Monday .\"],\n",
              "       dtype=object)>,\n",
              " 'sentence2': <tf.Tensor: shape=(408,), dtype=string, numpy=\n",
              " array([b'The company said this impacted earnings by a penny a share .',\n",
              "        b'The tube was removed Wednesday from Terri Schiavo , 39 , at the Tampa Bay-area hospice where she has lived for several years .',\n",
              "        b'The study , conducted on the brains of developing mice , was being published today in the journal Molecular Brain Research .',\n",
              "        b'The S3C2440 has a built-in NAND flash boot loader , for example , so that high-density NAND flash memory can be installed without an additional support chip .',\n",
              "        b\"Dr Mark McClean , the family 's GP , said had the drug been administered to Jonathan earlier , he would have retained more of his brain function .\",\n",
              "        b'\" There are more people surrounding the clubhouse than surrounded the Unabomber \\'s home in the hills .',\n",
              "        b'The broadside came during the recording on Saturday night of a Christmas concert attended by top Vatican cardinals , bishops and many elite of Italian society , witnesses said .',\n",
              "        b'The worm attacks Windows computers via a hole in the operating system , which Microsoft warned of 16 July .',\n",
              "        b'Kerkorian and Tracinda had also tried to take over Chrysler in 1995 .',\n",
              "        b'Witnesses believe he wanted to crash Flight 1737 , which had 47 passengers and six crew .',\n",
              "        b\"Nobody claimed responsibility for Schaichat 's death , but police suspect that the 20-year-old soldier was abducted either by Palestinians or Israeli Arabs .\",\n",
              "        b'Then his body was dumped a few blocks away , found in a driveway on Argyle Road .',\n",
              "        b'Shares of Hartford rose $ 2.88 to $ 46.50 in New York Stock Exchange composite trading .',\n",
              "        b'The registry was launched with $ 20 million from the Federal Emergency Management Agency .',\n",
              "        b\"Blair 's office said his Foreign Secretary Jack Straw would take his place on Monday to give a statement to parliament on the EU meeting the prime minister attended last week .\",\n",
              "        b'Just about everything about \" Harry Potter and the Order of the Phoenix \" will set records .',\n",
              "        b\"A nationally board certified teacher with a master 's degree , Kelley , in his 30th year teaching , makes $ 65,000 .\",\n",
              "        b'\" It \\'s probably not the easiest time to come in and take over the shuttle program , but I look forward to the challenge , \" Parsons told reporters at NASA headquarters .',\n",
              "        b'\" Our fundamental values haven \\'t changed , \" Mary Sue Coleman , president of the university , said in a statement in Ann Arbor .',\n",
              "        b'The quick conviction followed a 2 1 / 2 week trial , during which the Venango County man represented himself .',\n",
              "        b'The results appear in the January issue of Cancer , an American Cancer Society ( news - web sites ) journal , being published online Monday .',\n",
              "        b'Quarterly profit climbed to $ 73.1 million , or 33 cents a share , from $ 20.8 million , or 10 cents , a year earlier , the company said .',\n",
              "        b\"He failed a field sobriety test and a blood-alcohol test produced a reading of 0.18 \\xe2\\x80\\x93 well above Tennessee 's level of presumed intoxication of 0.10 , the report said .\",\n",
              "        b'Its closest relative is found in the Seychelles Archipelago , near Madagascar in the Indian Ocean .',\n",
              "        b'After the other inmate fell , Selenski used the mattress to scale a 10-foot , razor-wire fence , Fischi said .',\n",
              "        b'His hatred for these people had germinated from these discussions and helped cement his belief that violence was the panacea .',\n",
              "        b'Only one of the five buildings in the compound in Baghdad run by the UN Development Program , escaped being burned , the UN said on its Web site .',\n",
              "        b'Bob Richter , spokesman for Craddick , R-Midland , said the speaker had not seen the ruling and could not comment .',\n",
              "        b\"The legal ruling follows three days of wild volatility in RIM 's stock over speculation that PC giant Hewlett-Packard Co. may be bidding for the company .\",\n",
              "        b'There was no immediate evidence that the two incidents were connected , police said .',\n",
              "        b'\" If necessary , I will support a constitutional amendment which would honour marriage between a man and a woman , codify that . \"',\n",
              "        b'It also features a 4.5 in back-lit LCD screen and memory expansion facilities .',\n",
              "        b'The study also found that skin cancer nearly tripled in Norway and Sweden since the 1950s .',\n",
              "        b'\" Windows was the part of the experience that really resonated with people . \"',\n",
              "        b'For residents with incomes above $ 500,000 , the income-tax rate will increase to 4.45 percent .',\n",
              "        b'\" It has outraged the membership , \" said Rian Wathen , organizing director of United Food and Commercial Workers Local 700 .',\n",
              "        b'Peterson , 31 , is charged with two counts of first-degree murder in the slayings of his wife , Laci , and their unborn son , Conner .',\n",
              "        b'Greg Parseghian was appointed the new chief executive .',\n",
              "        b'Within two years , 259 , or 10 percent , of the youths reported they had started to smoke or had at least taken a few puffs .',\n",
              "        b\"NCSD 's chief will be Robert Liscouski , the assistant secretary of Homeland Security for Infrastructure Protection .\",\n",
              "        b'The Dow Jones industrial average fell 10.89 points , or 0.11 percent , to 9,837.94 .',\n",
              "        b'But late yesterday , the campaign and the state Democratic Party said there would be no news conference .',\n",
              "        b'Gasps could be heard as the photo was projected onto the screen .',\n",
              "        b'Twenty-seven people were believed to have been spending Christmas Day with the caretaker of Saint Sophia Camp , a Greek Orthodox facility , when the mudslide roared through .',\n",
              "        b'\" Biotech products , if anything , may be safer than conventional products because of all the testing , \" said Robert Fraley , Monsanto \\'s executive vice president .',\n",
              "        b'About 20 family members of the victims were invited to the news conference .',\n",
              "        b'Two Democrats , Sen. Charles Robb of Virginia and Wendell Ford of Kentucky , voted with the 40 Republicans .',\n",
              "        b\"Sen. Patrick Leahy , the committee 's senior Democrat , later said the problem is serious but called Hatch 's idea too drastic a remedy to be considered .\",\n",
              "        b'Some E.P.A. staff members defended the document , saying that although pared down it would still help policy makers and the agency address the climate issue .',\n",
              "        b'Though Dean made a point of saying during the debate that the Confederate flag is a racist symbol .',\n",
              "        b'The Democratic candidates also began announcing their fund-raising totals in advance of the deadline today to file quarterly reports with the Federal Election Commission .',\n",
              "        b\"MTA officials appropriated the surplus money to later years ' budgets without notifying riders or the MTA board members when the 50-cent hike was being considered , he said .\",\n",
              "        b'He also said there is no conscious policy by the United States to move the value of the dollar .',\n",
              "        b'Rowland was making an appearance at a holiday party for families of Connecticut National Guard soldiers assigned to duty in Iraq and Afghanistan .',\n",
              "        b'U.S. Secretary of State Colin Powell on Friday designated Chechen rebel leader Shamil Basayev a threat to the security of the United States and to U.S. citizens .',\n",
              "        b'Congress has added a new benefit - an option to buy insurance coverage for prescription drugs .',\n",
              "        b\"Peterson helped raise Ratliff 's two daughters , Margaret and Martha Ratliff , who supported him throughout the trial .\",\n",
              "        b\"Michel , who has stayed in the new government , denied that it was U.S. pressure which had provoked the government 's move .\",\n",
              "        b'It had a margin of sampling error of plus or minus four percentage points and was conducted Thursday through Saturday .',\n",
              "        b'\" The foodservice pie business does not fit our long-term growth strategy .',\n",
              "        b'He also said Shockey is \" living the dream life of a New York athlete .',\n",
              "        b'At the accident scene , the driver was \" covered in blood \" but helped to remove children , Wood said .',\n",
              "        b'U.S. stocks rose slightly on feather-light volume on Friday , as Wall Street regrouped after the biggest-ever power outage in North America .',\n",
              "        b'The Phillies were apparently upset when Counsell stole during the sixth with the Diamondbacks up 7-1 .',\n",
              "        b'Symptoms of the E. coli infection include bloody diarrhea , nausea , vomiting and abdominal cramping .',\n",
              "        b'In the United States , heart attacks kill about 460,000 yearly , according to the National Institutes of Health .',\n",
              "        b'The airline has the option to buy 380 more , split evenly between the two manufacturers .',\n",
              "        b'One by one they strolled to the microphone , all 251 youngsters in the 76th Scripps Howard National Spelling Bee .',\n",
              "        b'He is holding them up until the Air Force agrees to assign four additional C-130 cargo planes to the Idaho Air National Guard .',\n",
              "        b'Her father , Roma King Florin Cioaba , had her brought back and she was promptly married against her will .',\n",
              "        b'The attack came after several days of disturbance in the city in which U.S. soldiers exchanged fire with an unknown number of attackers as civilians protested the American presence .',\n",
              "        b'The woman -- who has no symptoms of illness -- donated blood Aug. 7 .',\n",
              "        b\"It is the nation 's first large-scale counterterrorism exercise since the Sept . 11 terrorist attacks .\",\n",
              "        b'Wittig resigned in late November about two weeks after being indicted on bank fraud charges in a real estate case unrelated to the company .',\n",
              "        b'IBMof the US andInfineon Technologies of Germany willon Tuesdayannounce a technological development that could threaten multi-billion dollar memory chip markets .',\n",
              "        b'Lay had refused to turn over the papers , asserting his Fifth Amendment right against self-incrimination .',\n",
              "        b'Shares of Corixa rose 54 cents , or about 8 percent , to close at $ 7.74 .',\n",
              "        b'But waiting crowds filling the streets rushed the bridges soon after daylight , overrunning razor-wire barricades .',\n",
              "        b'In an unusual move that critics contend could disrupt millions of Web sites , the U.S. Patent and Trademark Office is reconsidering a patent affecting Internet pages .',\n",
              "        b\"It decided instead to issue them before the stock market opened Monday to counteract the downgrade of its debt late Friday by Moody 's to one step above junk status .\",\n",
              "        b\"Around 1,500 police are to be deployed at Niigata for the ferry 's visit .\",\n",
              "        b'For the second year in a row , rises in hospital costs dominated the increase , accounting for 51 percent of the overall cost spiral .',\n",
              "        b'Amazon.com shipped more than a million copies by Saturday afternoon , making Saturday the largest distribution day of a single item in e-commerce history .',\n",
              "        b'Estonia was forcibly incorporated in the Soviet Union in 1940 and regained its independence only in 1991 .',\n",
              "        b'Windows Media Player has had security problems before .',\n",
              "        b\"Subway , bus and suburban rail services in France 's four largest cities -- Paris , Lyon , Lille and Marseille -- were severely disrupted , transport authorities said .\",\n",
              "        b'\" It was never the intention of us to sell product , \" federal Health Minister Anne McLellan said yesterday in Edmonton .',\n",
              "        b'The Maine program could be a model for other states .',\n",
              "        b'Peterson , 31 , is now charged with murder in the deaths of his 27-year-old wife and their unborn son .',\n",
              "        b'The company said it would renew its guidance for 2003 when it announces its second quarter results in mid-July .',\n",
              "        b\"One of the FBI 's key operatives , who has had a falling-out with the bureau , provided an account of the operation at a friend 's closed immigration court proceeding .\",\n",
              "        b'Cruz tried to fight off officers and was hospitalized after a police dog bit him , Sgt. Steve Dixon said .',\n",
              "        b'The Baltic Sky is a 37-year-old ship registered to Alpha Shipping Inc. based in the Pacific Ocean nation of Marshall Islands .',\n",
              "        b'The officers -- Kenneth Boss , Sean Carroll , Edward McMellon and Richard Murphy -- were acquitted in 2000 of state murder charges .',\n",
              "        b'Parson is charged with one count of intentionally causing damage to a protected computer .',\n",
              "        b'The \\xc2\\xb5Guru microcontroller serves four functions : hardware monitoring , overclocking management , BIOS update and a troubleshooting-assistance feature called Black Box .',\n",
              "        b'Service officials said Carlson refused to recuse himself from the case .',\n",
              "        b'The committee will make recommendations to Publisher Arthur Sulzberger , Executive Editor Howell Raines and Managing Editor Gerald Boyd .',\n",
              "        b'But with the Prime Minister due to leave tomorrow , a day early , he may not be present when the final decision is made .',\n",
              "        b'Spike Lee no longer believes that Viacom deliberately intended to trade on his name by calling its own venture \" Spike TV , \" according to a statement read in court Tuesday .',\n",
              "        b\"Christina 's aunt , Shelley Riling , said she will address the court .\",\n",
              "        b'They were remanded in custody and will appear in court again on July 8 .',\n",
              "        b'Intel spokesman Chuck Mulloy said the company was disappointed and assessing its \" options in the event Mr. Hamidi resumes his spamming activity against Intel . \"',\n",
              "        b'\" This deal makes sense for both companies , \" Halla said in a prepared statement .',\n",
              "        b'Broomhead , 34 , was assigned to the 2nd Squadron , 3rd Armored Cavalry Regiment .',\n",
              "        b'In a statement Monday , his lawyer John Keker said ``Frank Quattrone is innocent .',\n",
              "        b'The Justice Department on Aug. 19 sanctioned the Oct. 7 date for recall election , saying it would not affect voting rights .',\n",
              "        b\"Democrats hold a 17-15 edge in the state 's U.S. House delegation .\",\n",
              "        b'\" APEC leaders are painfully aware that security and prosperity are inseparable , \" Thaksin said .',\n",
              "        b'The former first lady has said she will not run for the White House in 2004 but has not ruled out a race later on .',\n",
              "        b'Economists said the announcement was not a surprise , and politicians said it offered little comfort to the millions of Americans without jobs .',\n",
              "        b'We think that the United States of America should support the free speech of all groups , he said .',\n",
              "        b'The Centers for Medicare and Medicaid launched a similar consumer tool for nursing homes last year .',\n",
              "        b'The U.S. steel tariffs , which Bush imposed in March 2002 , were to officially end at midnight Thursday ( 0500 GMT ) , instead of March 2005 as initially planned .',\n",
              "        b'The natural gas producer and marketer said the inaccurate reporting was discovered in response to a subpoena from the U.S. Commodity Futures Trading Commission , or CFTC .',\n",
              "        b\"Witness Zulfiqar Ali , who was slightly wounded by shrapnel , said the attackers had focused on the mosque 's guards .\",\n",
              "        b\"Trans fat accounts for 2.5 percent of Americans ' daily calories , compared to 11 percent to 12 percent for saturated fat .\",\n",
              "        b'Branson said that his preference would be to operate a fully commercial service on routes to New York , Barbados and Dubai .',\n",
              "        b'In the space of three years , Lend Lease has slipped from a top-five 5 stock when its share price hovered around $ 24 to 37th on the list .',\n",
              "        b'The Atlanta Olympic Games attack killed one woman and injured more than 100 other people .',\n",
              "        b\"Barry Callebaut will be able to use Brach 's retail network to sell products made from its German subsidiary Stollwerck , which makes chocolate products unknown to the American market .\",\n",
              "        b'Thus , he said , there did not have to one deadline to create the economic community .',\n",
              "        b'Dealers said the dollar also drew some downside support as Japanese investors are expected to keep snapping up foreign bonds amid ever-falling domestic interest rates .',\n",
              "        b\"Shortly after his arrest , detectives told Deasean 's father , Stelly Chisolm , a college student , and mother , Kimberly Hill , a medical assistant , about the development .\",\n",
              "        b\"Tens of thousands of demonstrators gathered yesterday evening to stand before this city 's legislature building and call for free elections and the resignation of Hong Kong 's leader .\",\n",
              "        b'Thyroid hormones are known to help in weight loss by stimulating metabolism , and they can help cut cholesterol too .',\n",
              "        b'Xerox itself previously paid a $ 10-million penalty to settle the SEC accusations .',\n",
              "        b\"Chirac , who has the authority to pardon law-breakers , refused Humbert 's request to be allowed to die last year but kept in close touch with the family .\",\n",
              "        b'Ernst & Young has denied the SEC \\'s claims , and called its recommendations \" irresponsible \" .',\n",
              "        b'The Midwestern center will focus on diagnosis , treatment and vaccines for anthrax , botulism , tularemia , hemorrhagic fever viruses and plague .',\n",
              "        b'\" Sebastian did his best to confess convincingly to a crime he didn \\'t do in order to survive , \" Ms. Richardson declared .',\n",
              "        b'The decision is \" clearly incorrect , \" FTC Chairman Tim Muris said .',\n",
              "        b'The government elements who have been causing trouble are still in place , they are attacking us . \"',\n",
              "        b'\" Instead of pursuing the most imminent and real threats - international terrorists , \" Graham said , \" this Bush administration chose to settle old scores . \"',\n",
              "        b'This fall the command will send trainers to work with soldiers from four North African nations on patrolling and gathering intelligence .',\n",
              "        b'In Soviet times the Beatles \\' music \" was considered propaganda of an alien ideology .',\n",
              "        b\"Wal-Mart Stores Inc . , the nation 's largest private employer , will now include gays and lesbians in its anti-discrimination policy , company officials said Wednesday .\",\n",
              "        b'North American futures pointed to a strong start to the first trading session of the week Monday , as earnings season slows and economic indicators take the spotlight .',\n",
              "        b'The fight over online music sales was disclosed in documents made available Monday by the court .',\n",
              "        b\"Brigitte 's maternal aunt said his family was unaware he had been sent to prison , or that he had remarried in Sydney .\",\n",
              "        b'In central Chungchong province , a landslide caused a Seoul-bound Saemaeul Express train to derail , injuring 28 people , local television said .',\n",
              "        b'Some are also used to send spam e-mail messages to boost traffic to the sites .',\n",
              "        b'The technology-laced Nasdaq Composite Index < .IXIC > shed 15 points , or 0.98 percent , to 1,492 .',\n",
              "        b\"On Tuesday , before Byrd 's speech , Fleischer said Bush wanted ' ' to see an aircraft landing the same way that the pilots saw an aircraft landing .\",\n",
              "        b'Prosecutors allege that Nichols and coconspirator Timothy McVeigh worked together to prepare a 4,000-pound fuel-and-fertilizer bomb that destroyed the Murrah building .',\n",
              "        b'After several weeks of market rallies on upbeat earnings , many investors are looking for more concrete signs of an economic recovery .',\n",
              "        b'The DirectBand network was developed with the assistance of SCA Data Systems .',\n",
              "        b'Rumsfeld has been feuding for a long time with Army leadership , and he passed over nine active-duty four-star generals .',\n",
              "        b'Stocks slipped at the open after the euro hit record highs against the dollar .',\n",
              "        b'Late last week , sources told Reuters cable TV company Comcast Corp. CMCSA.O also was looking at buying VUE assets .',\n",
              "        b\"Stephen King , master of the horror story and e-book pioneer , is receiving this year 's medal for Distinguished Contributions to American Letters from the National Book Foundation .\",\n",
              "        b'Annan warned that the dangers of extremism after September 11 should not be used as an excuse to suppress \" long-cherished \" freedoms .',\n",
              "        b'Mutinous troops who seized a Manila shopping and apartment complex demanding the government resign ended a 19-hour standoff late Sunday and returned to barracks without a shot fired .',\n",
              "        b'White , who had kidney failure from years of high blood pressure , had been undergoing dialysis and had been hospitalized since a September stroke .',\n",
              "        b'Mr McKinlay said that CIBA was involved in the importation of qat , a narcotic substance legal in Britain but banned in the US .',\n",
              "        b\"November 17 's last victim was British defense attache Stephen Saunders , who was shot and killed at point-blank range on a busy Athens road in June 2000 .\",\n",
              "        b'\" Motorola has displayed clear disloyalty \" to Symbian , said Per Lindberg , an analyst at Dresdner Kleinwort Wasserstein in London .',\n",
              "        b'They remained in Camden County Jail on Sunday on $ 100,000 bail .',\n",
              "        b'\" It \\'s a new beginning as far as the courts , Crown Prosecution Service and police are concerned , making the criminal justice system work better . \"',\n",
              "        b'He killed himself after being exposed as the source for a BBC report which claimed the government exaggerated the case for war against Iraq .',\n",
              "        b'\" He is not considered a suspect , \" McCabe said .',\n",
              "        b'Rehnquist wrote that the system was not narrowly tailored to achieve the interest in educational diversity .',\n",
              "        b'The high court will hear arguments today on whether companies can be sued under the ADA for refusing to rehire rehabilitated drug users .',\n",
              "        b'The Senate motion also called on Prime Minister John Howard to hold a royal commission into child sex abuse .',\n",
              "        b'The euro is up 9 percent against the dollar in the past six weeks .',\n",
              "        b\"Young said he was disappointed the government didn 't see the SARS crisis as worthy of federal disaster relief money .\",\n",
              "        b'He was arrested again Friday night at an Alpharetta restaurant where he was having dinner with his wife .',\n",
              "        b'Environmental campaigners used the eclipse to highlight the surge in light pollution across Britain .',\n",
              "        b'The fifth nominee for fiction is Scott Spencer , for A Ship Made of Paper .',\n",
              "        b'Most economists had been expecting a far more dire report , with many expecting to see the fifth month of job losses in six months in September .',\n",
              "        b'No dates have been set for the criminal or civil cases , but Shanley has pleaded not guilty .',\n",
              "        b'\" Allison just proves you don \\'t need to wait until August or September to have a disaster , \" Lichter said .',\n",
              "        b'The parents of a Briton being held hostage by Colombian rebels spoke yesterday of their optimism that he would be freed in time for his birthday next month .',\n",
              "        b'\" I would rather be talking about positive numbers rather than negative .',\n",
              "        b'\" We \\'ll be listening carefully to the ( IAEA ) director-general \\'s report at the next board meeting . \"',\n",
              "        b'\" Shattered Glass \" _ starring Hayden Christensen as Stephen Glass , The New Republic journalist fired for fabricating stories _ debuted well with $ 80,000 in eight theaters .',\n",
              "        b'Prosecutors could not be reached for comment after the legal papers were obtained late Monday afternoon .',\n",
              "        b'Armstrong County District Attorney Scott Andreassi said the many family photos in the home did not include Kristen .',\n",
              "        b\"During the third quarter , Lowe 's opened 38 new stores and now has 932 stores in 45 states .\",\n",
              "        b\"Scotland Yard 's decision to issue new guidance has been prompted by new intelligence passed to Britain by the FBI in late July .\",\n",
              "        b\"Indonesia 's army has been accused of human rights abuses during its earlier battles with GAM , charges it has generally denied .\",\n",
              "        b'License sales , a key measure of demand , fell 21 percent to $ 107.6 million .',\n",
              "        b'Three times in a row , they failed to get a big _ enough turnout to elect a president .',\n",
              "        b'In the second quarter last year , AK Steel reported a profit of $ 16.2 million , or 15 cents a share .',\n",
              "        b'Terri Schiavo , 39 , underwent the procedure at the Tampa Bay area hospice where she has been living for several years , said her father , Bob Schindler .',\n",
              "        b'Judge Craig Doran said he couldn \\'t determine if Hovan was \" an evil man \" but said he \" has committed an evil act . \"',\n",
              "        b'SARS has killed about 800 people and sickened more than 8,400 worldwide , mostly in Asia .',\n",
              "        b\"Last May , Hatfill was struck by a vehicle being driven by an FBI employee who was tailing him in Washington 's Georgetown neighborhood .\",\n",
              "        b'A county firefighter , was struck by lightning and was in stable condition at Frankfort Regional Medical Center .',\n",
              "        b'The Queens man arrested for allegedly threatening to shoot City Councilman Hiram Monserrate was held on $ 100,000 bail Saturday , a spokesman for the Queens district attorney said .',\n",
              "        b'Walsh , also 40 , was in critical but stable condition at Staten Island University Hospital last night .',\n",
              "        b'Cortisol levels in the saliva of day-care children were highest and rose most steeply in those whom day-care centre staffed judged to be the shyest .',\n",
              "        b'That would clear the way for debate in the full Senate beginning on Monday .',\n",
              "        b\"Costa will play Juan Carlos Ferrero next in a rematch of last year 's final .\",\n",
              "        b'Dittemore announced his plans to resign on April 23 .',\n",
              "        b'In hardest-hit Taipei , traffic has disappeared from once-bustling streets and department stores and restaurants are virtually empty .',\n",
              "        b\"Federal regulators have changed their minds on a proposed $ 2.8 billion merger of ice cream giants Nestle Holdings and Dreyer 's Grand Ice Cream .\",\n",
              "        b'\" We are committed to helping the Iraqi people get on the path to a free society , \" he said .',\n",
              "        b'Senior vice president Sara Fields said the airline \" will work professionally and cooperatively with all our unions . \"',\n",
              "        b'The AFL-CIO announced Wednesday that it will decide in October whether to endorse a candidate before the primaries .',\n",
              "        b'Stanford ( 46-15 ) has a team full of such players this season .',\n",
              "        b'Instead of one long operation to separate the twins , Goodrich and Dr. David Staffenberg plan about three , with several weeks between each .',\n",
              "        b'In all , more than 70,000 troops based in Southern California were deployed to Iraq .',\n",
              "        b'The purpose of the hearing is to determine whether Akbar should be court-martialled .',\n",
              "        b'IBM said the Rational products were also integrated with Rational PurifyPlus , which allows developers to work in Java , Visual C # and VisualBasic .Net.',\n",
              "        b'\" From now onwards we will embark on rolling mass action at strategic times of our choice and without any warning to the dictatorship , \" he said .',\n",
              "        b\"Its capacitance sensing technology electronically reads a fingerprint ; Sony says it can 't be fooled by paper copies and doesn 't require cleaning .\",\n",
              "        b'The technology-laced Nasdaq Composite Index was down 25.36 points , or 1.53 percent , at 1,628.26 .',\n",
              "        b'The Video Software Dealers Association said 28.2 million DVDs were rented out last week , compared to 27.3 million VHS cassettes .',\n",
              "        b'In midday trading , the Dow Jones industrial average lost 68.84 , or 0.7 percent , to 9,248.80 .',\n",
              "        b'The airline expects to save another $ 100-million a year through management layoffs and pay cuts .',\n",
              "        b'Cases of breast cancer in Britain have reached a record high , with the number of women diagnosed with the disease passing the 40,000 mark for the first time .',\n",
              "        b'\" Instead of pursuing the most imminent and real threats - international terrorists - this Bush administration has chosen to settle old scores , \" Graham said .',\n",
              "        b'State and federal securities regulators filed civil charges against Putnam Investments and two portfolio managers in the ever-expanding mutual fund trading scandal .',\n",
              "        b\"For now , the company 's management appears to be standing behind Stewart .\",\n",
              "        b\"Laos 's second most important export destination - said it was consulting EU member states ' ' with a view to taking appropriate action if necessary ' ' on the matter .\",\n",
              "        b\"The broader Standard & Poor 's 500 Index .SPX gave up 11.91 points , or 1.19 percent , at 986.60 .\",\n",
              "        b'Chad Kolton , emergency management spokesman with the Department of Homeland Security , said the government is open to new ways to communicate .',\n",
              "        b'On Wednesday , analysts say , UN members can no longer ignore the shifts since the attacks in the US of September 11 2001 .',\n",
              "        b\"The woman was exposed to the SARS virus while in the hospital but was not a health-care worker , said Dr Colin D 'Cunha , Ontario 's commissioner of public health .\",\n",
              "        b'His wife said he was \" 100 percent behind George Bush \" and looked forward to using his years of training in the war .',\n",
              "        b'HPs shipments increased 48 per cent year-on-year , compared to an increase of 31 per cent for Dell .',\n",
              "        b'Statistics from the Kansas Department of Health and Environment show that 11,844 abortions were performed in the state last year .',\n",
              "        b'\" They are obviously hurting so we are basically going over there to help them , \" Russell , 46 , said .',\n",
              "        b'On the week , the Dow Jones industrial average rose 11.56 points , while the Nasdaq Stock Market gained 39.42 points .',\n",
              "        b'Three such vigilante-style attacks forced the hacker organiser , who identified himself only as \" Eleonora67 ] , \" to extend the contest until 8am ( AEST ) today .',\n",
              "        b'Citigroup ( C ) on Wednesday named Marjorie Magner chairman and chief executive of its colossal global consumer business .',\n",
              "        b\"The volume of plaque in Pravachol patients ' arteries rose by 3 % .\",\n",
              "        b'He said the Government still did not know the real reason the original Saudi buyer pulled out on August 21 .',\n",
              "        b'Workplace Messaging is $ 29 , Workplace Team Collaboration is $ 89 , and Collaborative Learning is $ 35 .',\n",
              "        b'After 18 months , the atorvastatin patients had no change in the plaque in their arteries .',\n",
              "        b'Labor Department analysts discounted a slight improvement in the national unemployment rate , which fell in August to 6.1 percent from 6.2 percent .',\n",
              "        b\"Tomorrow the book , kept under wraps by G. P. Putnam 's Sons since its inception , will appear in bookstores .\",\n",
              "        b'Close cooperation between regional law enforcement agencies and intelligence services was at the heart of the fight against terrorism , he said .',\n",
              "        b'In math , 16 percent of elementary and middle school students and 9.6 percent of high school students must be proficient .',\n",
              "        b'Columbia broke apart in the skies above Texas on Feb. 1 .',\n",
              "        b\"It 's happened five times in the last decade : A disaster puts this tourist town in the headlines during summer , its busiest season .\",\n",
              "        b'Some of the companys software developers will join Microsoft , but details havent been finalized , said Mike Nash , corporate vice president of Microsofts security business unit .',\n",
              "        b'After Alabama voters rejected his $ 1.2 billion tax plan Sept . 9 , Riley forecast significant cuts in state programs .',\n",
              "        b\"Ross Garber , Rowland 's legal counsel , said the governor would have no comment on the condo deal .\",\n",
              "        b'So far the only declared major party candidate is Rep. Darrell Issa , a Republican who has spent $ 1.5 million of his own money to fund the recall .',\n",
              "        b'\" The evidence that we had of weapons of mass destruction was drawn up and accepted by the Joint Intelligence Committee , \" he said .',\n",
              "        b'The European Commission is expected to issue its decision in the case next spring \\xe2\\x80\\x94 unless a settlement is reached .',\n",
              "        b'The IRS said taxpayers can avoid problems with lost or stolen refunds by having refunds deposited directly into personal checking or savings accounts .',\n",
              "        b'It has also said it would review all of its domestic employees more than 1 million to ensure they have legal status .',\n",
              "        b'Palestinian Prime Minister Mahmoud Abbas must defend the record of his first 100 days in office before Parliament today as the death toll in the occupied territories continues to rise .',\n",
              "        b'Tom Kraynak , manager of operations and resources for the Canton , Ohio-based East Central Area Reliability Council , said investigators are considering the scenario .',\n",
              "        b'Chiron has acceptances from holders of nearly 20 percent of PowderJect shares .',\n",
              "        b'The blue-chip Dow Jones industrial average .DJI added 38 points , or 0.42 percent , to 9,165 .',\n",
              "        b'After more than two years in detention by the State Security Bureau , the four were found guilty last Wednesday of subversion .',\n",
              "        b'On Saturday , Roddick equalled the world record with a 149 m.p.h. serve in beating Andre Agassi .',\n",
              "        b\"The agency found further that a WD Energy employee discussed false reporting with traders at two other energy companies , which the CFTC didn 't identify .\",\n",
              "        b'\" Rosenthal is hereby sentenced to custody of the Federal Bureau of Prisons for one day with credit for time served . \"',\n",
              "        b'Broomhead , 34 , was assigned to the 2nd Squadron , 3rd Armored Cavalry Regiment .',\n",
              "        b'She started taking supplements two years ago - partly to stave off mild dementia that affects her elderly parents .',\n",
              "        b\"GE 's shares closed at $ 30.65 on Friday on the New York Stock Exchange .\",\n",
              "        b'The chain , which has been under new management since late 1999 , has more than 3,400 stores and $ 15.8 billion in annual revenue .',\n",
              "        b'Only in the past few weeks have officials settled on the 20 percent figure .',\n",
              "        b'BP shares slipped 48 cents to $ 41.72 Friday in trading on the New York Stock Exchange .',\n",
              "        b\"Nelson , 27 , is being retried on civil rights charges stemming from the disturbance that led to Rosenbaum 's death .\",\n",
              "        b'During difficult times for technology venture capital , Vivace raised over $ 118 million in three rounds of venture financing .',\n",
              "        b'McBride characterized Novell \\'s move as \" a desperate measure to curry favor with the Linux community . \"',\n",
              "        b'The group has already met several times and Gen. Garner said it probably will be expanded to include a Christian and perhaps another Sunni Muslim leader .',\n",
              "        b'Rather , the US acted because the administration saw \" existing evidence in a new light , through the prism of our experience on September 11 \" .',\n",
              "        b'\" I think it happened very quickly , \" said Investigator Phil Yochum of the Houston Police Department \\'s homicide division .',\n",
              "        b'Governor Rowland said his decision was \" not based on any one event . \"',\n",
              "        b'The dollar was at 116.78 yen JPY = , virtually flat on the session , and at 1.2871 against the Swiss franc CHF = , down 0.1 percent .',\n",
              "        b'\" I had one bad stretch of holes that put me out of contention , \" Woods said , referring to his 42 on the front nine Saturday .',\n",
              "        b'Toll last week offered to buy the company for NZ75c a share , or $ NZ158 million .',\n",
              "        b\"He 's not related to Malvo , but the two have referred to each other as father and son .\",\n",
              "        b\"Its shares fell $ 9.61 to $ 50.26 , ranking as the NYSE 's most-active issue and its biggest percentage loser .\",\n",
              "        b'Several Florida officials connected to the case have received threatening letters , accompanied by rifle bullets .',\n",
              "        b'\" Today , we are trying to convey this problem to Russian President Vladimir Putin ( news - web sites ) and President Bush ( news - web sites ) . \"',\n",
              "        b'At least 40 of the outlets will be in California , and analysts expect four or more to be in San Diego County .',\n",
              "        b'\" It \\'s great to be back home , \" said Lu , dressed in a woolly coat near the blackened capsule .',\n",
              "        b'The judge had told the state Department of Mental Health to find supervised housing and treatment for DeVries somewhere in California .',\n",
              "        b'The donation of 60,000 tons brings the total of U.S. contributions for the year to 100,000 .',\n",
              "        b'The second-quarter results had a non-operating gain of 10 cents a share while the 2002 second-quarter performance had a net non-operating loss of 19 cents a share .',\n",
              "        b\"During President Bush 's trip to Africa earlier this month , however , Washington said it would support the increase .\",\n",
              "        b'Clinton \\xe2\\x80\\x99 s national security adviser , Sandy Berger , said in an interview that the White House was not informed of the FBI activities .',\n",
              "        b\"Bishop Thomas O 'Brien , 67 , was booked on a charge of leaving the scene of a fatal accident .\",\n",
              "        b'Her 20-year-old sister , Allyson , was severely burned and remained hospitalized in critical condition .',\n",
              "        b'The troops - whose mandate is to protect U.N. installations and personnel - can only fire in self-defense and have been unable to stem the violence .',\n",
              "        b'Hebei has reported 191 cases and eight deaths , though the WHO experts did not say how many were in rural areas .',\n",
              "        b\"A 14 percent slide in crude prices this month and expectations of a build up in oil inventories compounded OPEC 's fears of a further softening of the market .\",\n",
              "        b'In Baghdad , police Lieut . Mothana Ali said about 1,000 demonstrators arrived at the station demanding jobs .',\n",
              "        b'Morgenthau said the women , all U.S. citizens , lied on a sworn affidavit that requires them to list prior marriages .',\n",
              "        b'He replaces Leland Brendsel , 61 , who retired as chairman and chief executive .',\n",
              "        b'He said he has initiated a forfeiture action in court and frozen more than $ 13 million Beacon Hill had when it closed .',\n",
              "        b'I stand 100 percent by it , and I think that our intelligence services gave us the correct intelligence and information at the time , \" Blair said .',\n",
              "        b\"As executive vice president of new ventures , Elias will report to Joe Tucci , EMC 's president and chief executive .\",\n",
              "        b\"The Standard & Poor 's 500 Index < .SPX > slipped 0.26 point , or 0.02 percent , to 1,121.96 .\",\n",
              "        b'Along with Boston , Watertown , Saugus and Framingham also are going smoke-free Monday .',\n",
              "        b'They cover more than 300,000 UAW workers and 500,000 retirees and spouses .',\n",
              "        b'Community college students will see their tuition rise by $ 300 to $ 2,800 or 12 percent .',\n",
              "        b\"Wal- Mart , Kohl 's Corp. , Family Dollar Stores Inc . , and Big Lots Inc. posted May sales that fell below Wall Street 's modest expectations .\",\n",
              "        b'Lee Boyd Malvo will be called as a witness Wednesday in a pretrial hearing for fellow sniper suspect John Allen Muhammad .',\n",
              "        b'Bethany , who remained in stable condition after the attack Friday morning , talked of the attack Saturday .',\n",
              "        b\"Cintas is battling efforts to unionize 17,000 of its workers and labor 's demands to let its workers organize by signing cards , rather than by a lengthy election process .\",\n",
              "        b'President Bush has raised $ 83.9 million since beginning his re-election campaign in May , and has $ 70 million of that left to spend , his campaign said Tuesday .',\n",
              "        b\"The world 's largest software company said it recognized the difficulty the multiple patches posed for companies trying to apply them .\",\n",
              "        b'Ridge said no real explosives or harmful devices will be used in the exercise .',\n",
              "        b'The British pound flexed its muscle against the dollar , last up 1 percent at $ 1.6672 .',\n",
              "        b'\" These are not solely American principles nor are they exclusively Western , \" Rumsfeld said .',\n",
              "        b'\" The risk of inflation becoming undesirably low remains the predominant concern for the foreseeable future , \" the policy-setting Federal Open Market Committee said .',\n",
              "        b'On the stand Wednesday , she testified that she was referring to the kissing before the alleged rape .',\n",
              "        b\"Myanmar 's pro-democracy leader Aung San Suu Kyi will be kept under house arrest following her release from a hospital where she underwent surgery , her personal physician said Friday .\",\n",
              "        b'He is charged in three bombings in Atlanta - including a blast at the 1996 Olympics - along with the bombing in Alabama .',\n",
              "        b'Lapidus expects Ford to be down 5 percent , Chrysler down 10 percent and foreign brands up 4 percent driven by strong truck sales at Honda .',\n",
              "        b'News that the Organization of Petroleum Exporting Countries was lowering output starting in November exacerbated a stock sell-off already under way yesterday .',\n",
              "        b'A Stage 1 episode is declared when ozone levels reach 0.20 parts per million .',\n",
              "        b'Morgan Stanley raised its rating on the company to \" overweight \" from \" equal-weight , \" saying the beverage maker \\'s pricing power with bottlers should improve in 2004 .',\n",
              "        b'The purpose of the hearing is to determine whether Akbar should be court-martialled .',\n",
              "        b'Sales rose 37 per cent year-on-year to 1.76bn , beating expectations .',\n",
              "        b\"Hester said Sanmina 's offer was the best among several Newisys received from electronics manufacturers and computer makers .\",\n",
              "        b'Bin Laden \\xe2\\x80\\x99 s men pointed out that raising and distributing funds has been complicated by the U.S. crackdown on jihadi charitable foundations , bank accounts of terror-related organizations and money transfers .',\n",
              "        b'At least 26 American troops have been killed in hostile fire since major combat was officially declared over on May 1 .',\n",
              "        b'A Lieberman aide said there were no immediate plans for television advertising .',\n",
              "        b'The program will be expanded to include areas of the Middle East such as Dubai , Turkey and Malaysia , Mr. Ridge said .',\n",
              "        b'By skirting the FDA \\'s oversight , Eagan said the quality of the imported drugs is \" less predictable \" than U.S. drugs .',\n",
              "        b'Since the initial takeover offer , Salix shares have risen about 35 percent .',\n",
              "        b'Worldwide , Les Mis\\xc3\\xa9rables has been seen by over 50 million people , with a total gross of over $ 2 billion .',\n",
              "        b'\" Sanitation is poor , drinking water is generally left behind . . . there could be typhoid and cholera . \"',\n",
              "        b'In math , 16 percent of elementary and middle school students and 9.6 percent of high school students must be proficient .',\n",
              "        b'Consumers who said jobs are difficult to find jumped to 32.6 from 29.4 , while those saying work was plentiful slipped to 12.6 from 13 in April .',\n",
              "        b'Billups scored 77 points in the final two games of the first-round series against the Magic .',\n",
              "        b\"Falconer will hold on , for now , to the Lord Chancellor 's Great Seal , used to sign off instructions from the sovereign .\",\n",
              "        b\"We firmly believe that we have an absolute right to use the common word ' spike ' to name our network .\",\n",
              "        b'But Ms Ward said the headroom under its financial covenants was \" tight \" and that there could be a rating downgrade if Southcorp did breach any banking covenants .',\n",
              "        b'Taiwan had been relatively free of the viral infection until a severe outbreak at a Taipei hospital in late April .',\n",
              "        b'The film is the second of a trilogy , which will wrap up in November with \" The Matrix Revolutions . \"',\n",
              "        b\"McDonald 's said in a statement that it does not import any raw beef or hamburger patties from Canada for use in the United States .\",\n",
              "        b'Now the rest is just mechanical , \" said Allan Hoffenblum , a Republican consultant .',\n",
              "        b'He said about 40 people attended the traditional Jewish ceremony colored by some nontraditional touches .',\n",
              "        b'The team will help draft a plan by the end of the year to attack obesity .',\n",
              "        b\"The Iranians have until the end of the month to answer all the agency 's questions about their past nuclear activities .\",\n",
              "        b'The dead man , Leon Williams , was found in his third-floor apartment .',\n",
              "        b'It was still not known exactly how many people were on the plane , which could carry 141 passengers and crew .',\n",
              "        b'In response to sluggish sales , Cisco pared spending .',\n",
              "        b'Spansion Flash memory solutions are available worldwide from AMD and Fujitsu .',\n",
              "        b'Ships carry 95 percent of international cargo to the United States .',\n",
              "        b'The time was about 4 a.m. on March 18 , just hours before the first pinpoint missiles rained down on the capital .',\n",
              "        b'At the end of the second quarter , Intel initially predicted sales of between $ 6.9 billion and $ 7.5 billion .',\n",
              "        b'Justice Minister Martin Cauchon and Prime Minister Jean Chretien both have said the government will introduce legislation to decriminalize possession of small amounts of pot .',\n",
              "        b\"Thursday morning , PeopleSoft 's board rejected the Oracle takeover offer .\",\n",
              "        b'\" I think it \\'s going to be a close vote , but I think the grant proposal \\'s going to win , \" said Sen. Mitch McConnell , assistant majority leader .',\n",
              "        b'The euro was steady versus the Swiss franc after hitting its highest since mid-2001 of 1.5261 earlier in the session .',\n",
              "        b'Gagne struck out two in a perfect ninth inning for his 23rd save .',\n",
              "        b'Donations stemming from the Sept . 11 attacks helped push up contributions to human service organizations by 15 percent and to large branches of the United Way by 28.6 percent .',\n",
              "        b'Canadian officials were also expected to meet yesterday with the International Organization for Epizootics ( OIE ) , which establishes animal-health standards for the world .',\n",
              "        b'\" He may not have been there , \" said a defence official speaking on condition of anonymity .',\n",
              "        b\"The vendor has added 100 new third-party systems and 100 new components to the operating system 's Hardware Compatibility List ( HCL ) .\",\n",
              "        b'He said federal regulators would work with the corporation to ensure a \" smooth transition . \"',\n",
              "        b'Goodrem spent yesterday resting in her family home in Sydney and will have more tests today to determine her exact treatment .',\n",
              "        b'The second vulnerability is a result of IE not implementing a block on a file download dialog box .',\n",
              "        b\"Hussein loyalists have been blamed for sabotaging the nation 's infrastructure and attacking US soldiers .\",\n",
              "        b'Prosecutors said PW Marketing violated the 1998 anti-spam law because these unsolicited e-mails were sent without a free call number for recipients to phone to stop additional mailings .',\n",
              "        b'Gibson said in a June statement that he and his film are not anti-Semitic .',\n",
              "        b'She said no company official had received \" an individual target letter at this time . \"',\n",
              "        b'Bryant has said that hike had a greater effect on demand than officials expected .',\n",
              "        b'The Institute said dioxin levels in the environment have fallen by as much as 76 percent since the 1970s .',\n",
              "        b'U.S. companies slashed payrolls for a seventh straight month in August , raising new worries that a weak jobs market could shackle the budding economic recovery .',\n",
              "        b'Asked if the delegates could leave on Friday , police intelligence chief Surya Dharma told reporters : \" Of course they may not go .',\n",
              "        b'The second vulnerability is a result of IE not implementing a block on a file download dialog box .',\n",
              "        b'\" As long as we don \\'t march on Tehran , I think we are going to be in pretty good shape , \" he said .',\n",
              "        b'The premium edition adds ISA Server , SQL Server and a specialized edition of BizTalk 2004 .',\n",
              "        b\"It 's been a busy couple of days for enterprise security gurus tasked with the job of keeping their companies safe and sound .\",\n",
              "        b'As he sat down to hear the indictment , Samudra looked over to his nine lawyers and shouted \" Takbir ! \" , or \" Proclaim ! \" , a religious rallying cry .',\n",
              "        b'A former Utah Power meter reader pleaded guilty Wednesday to bombing a power substation during the 2002 Winter Olympics .',\n",
              "        b'The OpForce product currently works with Solaris , AIX , Red Hat Linux and Windows servers .',\n",
              "        b'Drax \\xe2\\x80\\x99 s troubles began late last year when it lost its most lucrative sales contract , with the insolvent utility TXU Europe .',\n",
              "        b'\" The court and the public need to know more of the defendants \\' seemingly massive fraud , \" he said .',\n",
              "        b'\" I don \\'t know whether the person I \\'m talking to now may end up being someone else , \" Parrish said .',\n",
              "        b\"GE 's shares closed at $ 30.65 on Friday on the New York Stock Exchange .\",\n",
              "        b'\" For the first time , there is an easy and affordable way of making this treasure trove of BBC content available to all , \" Dyke said .',\n",
              "        b'A recent poll showed Edwards in a virtual four-way tie at the top in South Carolina , and he plans a rally there later on Tuesday .',\n",
              "        b'Already large swells and dangerous surf have arrived along the mid-Atlantic .',\n",
              "        b'Ms Stewart , 61 , its chief executive officer and chairwoman , did not attend .',\n",
              "        b'HAINAN PROVINCE , China : Singapore Prime Minister Goh Chok Tong said China plays an important role in the integration of Asia .',\n",
              "        b\"The inquiry may hinder Chief Executive Phil Condit 's strategy of bolstering defense-related sales during a slump in jetliner deliveries .\",\n",
              "        b\"Funny Cide is looking to become horse racing 's first Triple Crown winner in a generation .\",\n",
              "        b'Such an amount would probably be unable to summon a majority of the Senate , where Republican moderates have refused to go above $ 350 billion .',\n",
              "        b'The Harrisons \\xe2\\x80\\x99 lawyer Paul LiCalsi said : \\xe2\\x80\\x9c I \\xe2\\x80\\x99 ve never heard of more reprehensible behaviour by a doctor .',\n",
              "        b'The Dow Jones industrial average < .DJI > rose 49 points , or 0.47 percent , to 10,578 .',\n",
              "        b\"She told the New York Daily News she remembers only the intern 's first name , which she refused to reveal .\",\n",
              "        b'It \\'s just that they never climb out of the beer again . \"',\n",
              "        b'The firewall in the current Windows XP was known as the Internet Connection Firewall ( ICF ) .',\n",
              "        b'The Nasdaq Composite Index .IXIC dipped 8.59 points , or 0.48 percent , to 1,773.54 .',\n",
              "        b'The quarterlies usually stay in stores for between six to eight weeks , \" Carney added .',\n",
              "        b'No matter who becomes the sponsor for stock-car racings top series , NASCAR will need an all-star event , Wheeler said Tuesday .',\n",
              "        b'The two had battled over custody and he allegedly told her in an angry phone call that he had no intention of following their new custody agreement .',\n",
              "        b\"The civilian unemployment rate improved marginally last month _ sliding down to 6.1 percent _ as companies slashed payrolls by 93,000 amid continuing mixed signals about the nation 's economic health .\",\n",
              "        b'\" The idea that Tony Abbott is in some way a one-dimensional political head kicker couldn \\'t be more wrong . \"',\n",
              "        b'The first products will likely be dongles costing $ 100 to $ 150 that will establish connections between consumer electronics devices and PCs .',\n",
              "        b\"Mr. Weill 's longtime confidant , Charles O. Prince , 53 , was named as his successor .\",\n",
              "        b'\" I was surprised it turned out me talking and the president just listening . . . It was mostly a monologue . \"',\n",
              "        b'Around the same time , hospital officials in and near Chicago will notice a sudden increase in people complaining of flu-like symptoms .',\n",
              "        b\"The decision came a year after Whipple ended federal oversight of school busing as well as the district 's racial balance , facilities and budget .\",\n",
              "        b'It has a margin of error of plus or minus three to four percentage points .',\n",
              "        b'Miodrag Zivkovic , of the Liberal Alliance of Montenegro , won 31 percent of the vote while the independent Dragan Hajdukovic got four percent .',\n",
              "        b'President Bush flies to Uganda Friday hoping to polish his anti- AIDS credentials in a country hailed as an African pioneer in fighting the epidemic .',\n",
              "        b'The government now charges that Sattar conspired with Rahman to kill and kidnap individuals in foreign countries .',\n",
              "        b'Including the charge , the Santa Clara , Calif.-based company said Monday it lost $ 1.04 billion , or 32 cents per share , in the period ending June 30 .',\n",
              "        b\"If the MTA 's appeal is successful , the $ 2 bus and subway base fare won 't change .\",\n",
              "        b'The vote for mayor followed City Council elections that gave Kurds the largest block of votes on the 30-seat council .',\n",
              "        b\"At the service Morrill 's widow , Ellie , sobbed and hugged Bondeson 's sister-in-law as people consoled her .\",\n",
              "        b'The market remains pinned in a narrow range after a powerful rally pushed the broad S & P 500 index up more than 20 percent since mid-March .',\n",
              "        b'BusinessWeek Online has learned that the settlement could come as early as Monday , May 19 .'],\n",
              "       dtype=object)>}"
            ]
          },
          "metadata": {
            "tags": []
          },
          "execution_count": 70
        }
      ]
    },
    {
      "cell_type": "code",
      "metadata": {
        "colab": {
          "base_uri": "https://localhost:8080/"
        },
        "id": "tMrEr6cXNW0T",
        "outputId": "354fd971-2528-4ce0-bdf1-f5a72e2850b8"
      },
      "source": [
        "print(sentence_features)\n",
        "def prepare(record):\n",
        "  model_inputs = [[record[ft]] for ft in sentence_features]\n",
        "  labels = [record['label']]\n",
        "  return model_inputs , labels"
      ],
      "execution_count": null,
      "outputs": [
        {
          "output_type": "stream",
          "text": [
            "['sentence1', 'sentence2']\n"
          ],
          "name": "stdout"
        }
      ]
    },
    {
      "cell_type": "code",
      "metadata": {
        "colab": {
          "base_uri": "https://localhost:8080/"
        },
        "collapsed": true,
        "id": "loE1X2LNNmaQ",
        "outputId": "69685730-deb9-4305-c1af-36e2a53b0c8e"
      },
      "source": [
        "def evaluate(bert_result_class , test , label):\n",
        "  print('sentence1:', test[0])\n",
        "  print('sentence2:', test[1])\n",
        "  print(tf.argmax(bert_result_class, axis=1)[0])    \n",
        "  print(\"original results \" , label)\n",
        "  print('\\n')\n",
        "test_dataset = tf.data.Dataset.from_tensor_slices(glue['validation'])\n",
        "for test_row,label in test_dataset.shuffle(1000).map(prepare).take(5):\n",
        "  result = reloaded_model(list(test_row))\n",
        "  evaluate(result, test_row , label)\n",
        "  \n"
      ],
      "execution_count": null,
      "outputs": [
        {
          "output_type": "stream",
          "text": [
            "sentence1: tf.Tensor([b'Cintas is battling efforts to unionize 17,000 of its workers and to let unions organize the workers by signing cards , rather than by a lengthy election process .'], shape=(1,), dtype=string)\n",
            "sentence2: tf.Tensor([b\"Cintas is battling efforts to unionize 17,000 of its workers and labor 's demands to let its workers organize by signing cards , rather than by a lengthy election process .\"], shape=(1,), dtype=string)\n",
            "tf.Tensor(1, shape=(), dtype=int64)\n",
            "original results  tf.Tensor([1], shape=(1,), dtype=int64)\n",
            "\n",
            "\n",
            "sentence1: tf.Tensor([b'But Virgin wants to operate Concorde on routes to New York , Barbados and Dubai .'], shape=(1,), dtype=string)\n",
            "sentence2: tf.Tensor([b'Branson said that his preference would be to operate a fully commercial service on routes to New York , Barbados and Dubai .'], shape=(1,), dtype=string)\n",
            "tf.Tensor(0, shape=(), dtype=int64)\n",
            "original results  tf.Tensor([1], shape=(1,), dtype=int64)\n",
            "\n",
            "\n",
            "sentence1: tf.Tensor([b'In an unusual move , the U.S. Patent and Trademark Office is reconsidering a patent affecting Internet pages that critics contend could disrupt millions of Web sites .'], shape=(1,), dtype=string)\n",
            "sentence2: tf.Tensor([b'In an unusual move that critics contend could disrupt millions of Web sites , the U.S. Patent and Trademark Office is reconsidering a patent affecting Internet pages .'], shape=(1,), dtype=string)\n",
            "tf.Tensor(1, shape=(), dtype=int64)\n",
            "original results  tf.Tensor([1], shape=(1,), dtype=int64)\n",
            "\n",
            "\n",
            "sentence1: tf.Tensor([b'That is evident from their failure , three times in a row , to get a big enough turnout to elect a president .'], shape=(1,), dtype=string)\n",
            "sentence2: tf.Tensor([b'Three times in a row , they failed to get a big _ enough turnout to elect a president .'], shape=(1,), dtype=string)\n",
            "tf.Tensor(1, shape=(), dtype=int64)\n",
            "original results  tf.Tensor([1], shape=(1,), dtype=int64)\n",
            "\n",
            "\n",
            "sentence1: tf.Tensor([b'BP shares slipped 0.8 percent to 433.50 pence ( $ 6.85 ) each in afternoon trading on the London Stock Exchange .'], shape=(1,), dtype=string)\n",
            "sentence2: tf.Tensor([b'BP shares slipped 48 cents to $ 41.72 Friday in trading on the New York Stock Exchange .'], shape=(1,), dtype=string)\n",
            "tf.Tensor(1, shape=(), dtype=int64)\n",
            "original results  tf.Tensor([1], shape=(1,), dtype=int64)\n",
            "\n",
            "\n"
          ],
          "name": "stdout"
        }
      ]
    },
    {
      "cell_type": "code",
      "metadata": {
        "colab": {
          "base_uri": "https://localhost:8080/"
        },
        "id": "Fq3Z5nN0QHdU",
        "outputId": "6fc5336c-aebe-4e3c-c163-60362e889987"
      },
      "source": [
        "train_dataset = tf.data.Dataset.from_tensor_slices(glue['train'])\n",
        "for train_row , label in train_dataset.shuffle(1000).map(prepare).take(5):\n",
        "  result = reloaded_model(list(train_row))\n",
        "  evaluate(result, train_row , label)\n"
      ],
      "execution_count": null,
      "outputs": [
        {
          "output_type": "stream",
          "text": [
            "sentence1: tf.Tensor([b'Five more human cases of West Nile virus , were reported by the Mesa County Health Department on Wednesday .'], shape=(1,), dtype=string)\n",
            "sentence2: tf.Tensor([b'As of this week , 103 human West Nile cases in 45 counties had been reported to the health department .'], shape=(1,), dtype=string)\n",
            "tf.Tensor(0, shape=(), dtype=int64)\n",
            "original results  tf.Tensor([0], shape=(1,), dtype=int64)\n",
            "\n",
            "\n",
            "sentence1: tf.Tensor([b'Scruggs , who did not testify , was cleared of a second charge of failing to provide her son with proper medical and psychological care .'], shape=(1,), dtype=string)\n",
            "sentence2: tf.Tensor([b'The six-member jury cleared Scruggs of a second charge that accused her of failing to provide her son with proper medical and psychological care .'], shape=(1,), dtype=string)\n",
            "tf.Tensor(1, shape=(), dtype=int64)\n",
            "original results  tf.Tensor([1], shape=(1,), dtype=int64)\n",
            "\n",
            "\n",
            "sentence1: tf.Tensor([b'BT said the combination would have an immediate impact on subscriptions with 60,000 additional customers between September and March , 2004 .'], shape=(1,), dtype=string)\n",
            "sentence2: tf.Tensor([b'BT said it expected the combination to reap 60,000 additional customers between September and March , 2004 .'], shape=(1,), dtype=string)\n",
            "tf.Tensor(1, shape=(), dtype=int64)\n",
            "original results  tf.Tensor([1], shape=(1,), dtype=int64)\n",
            "\n",
            "\n",
            "sentence1: tf.Tensor([b'Mr. Bankhead said the crime scenes indicated that the killer was \" very methodical . \"'], shape=(1,), dtype=string)\n",
            "sentence2: tf.Tensor([b'GBI spokesman John Bankhead said the murder scenes showed that the killer was very methodical .'], shape=(1,), dtype=string)\n",
            "tf.Tensor(1, shape=(), dtype=int64)\n",
            "original results  tf.Tensor([1], shape=(1,), dtype=int64)\n",
            "\n",
            "\n",
            "sentence1: tf.Tensor([b'Both papers are being published today in the New England Journal of Medicine .'], shape=(1,), dtype=string)\n",
            "sentence2: tf.Tensor([b'The study appears today in the New England Journal of Medicine .'], shape=(1,), dtype=string)\n",
            "tf.Tensor(1, shape=(), dtype=int64)\n",
            "original results  tf.Tensor([0], shape=(1,), dtype=int64)\n",
            "\n",
            "\n"
          ],
          "name": "stdout"
        }
      ]
    },
    {
      "cell_type": "code",
      "metadata": {
        "id": "uVi3b5r2SoE3"
      },
      "source": [
        ""
      ],
      "execution_count": null,
      "outputs": []
    }
  ]
}